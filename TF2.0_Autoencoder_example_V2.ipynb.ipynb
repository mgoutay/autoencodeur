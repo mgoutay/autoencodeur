{
 "cells": [
  {
   "cell_type": "markdown",
   "metadata": {},
   "source": [
    "# The Physical Layer as an Autoencoder\n"
   ]
  },
  {
   "cell_type": "markdown",
   "metadata": {},
   "source": [
    "**First : change the runtime and hardware acceleration**\n",
    "\n",
    "Runtime $\\rightarrow$ Change runtime type\n",
    "\n",
    "- Runtime type : Python 3\n",
    "- Hardware accelerator : GPU"
   ]
  },
  {
   "cell_type": "markdown",
   "metadata": {},
   "source": [
    "An autoencoder is a type of artificial neural network used to find a useful representation of some data $\\mathbf{s}$ at an intermediate layer $\\mathbf{x}$ through learning to reproduce the input at the output.\n",
    "\n",
    "![autoencoder_0](https://github.com/mgoutay/autoencodeur/blob/master/Images/autoencoder_0.png?raw=true)\n",
    "\n"
   ]
  },
  {
   "cell_type": "markdown",
   "metadata": {},
   "source": [
    "# Initialisation"
   ]
  },
  {
   "cell_type": "code",
   "execution_count": 1,
   "metadata": {},
   "outputs": [],
   "source": [
    "# Install TensorFlow 2.0 on Google Collab if needed\n",
    "try:\n",
    "  # %tensorflow_version only exists in Colab.\n",
    "  %tensorflow_version 2.x\n",
    "except Exception:\n",
    "    pass"
   ]
  },
  {
   "cell_type": "code",
   "execution_count": 2,
   "metadata": {},
   "outputs": [
    {
     "name": "stdout",
     "output_type": "stream",
     "text": [
      "Tensorflow version:  2.0.0\n",
      "Number of GPUs available : 4\n",
      "Only GPU number 0 used\n"
     ]
    }
   ],
   "source": [
    "#Set the GPU you want to use\n",
    "num_GPU = 0\n",
    "\n",
    "import tensorflow as tf\n",
    "print('Tensorflow version: ', tf.__version__)\n",
    "\n",
    "gpus = tf.config.experimental.list_physical_devices(\"GPU\")\n",
    "print('Number of GPUs available :', len(gpus))\n",
    "\n",
    "if num_GPU < len(gpus):\n",
    "    tf.config.experimental.set_visible_devices(gpus[num_GPU], 'GPU')\n",
    "    tf.config.experimental.set_memory_growth(gpus[num_GPU], True)\n",
    "    print('Only GPU number', num_GPU, 'used')"
   ]
  },
  {
   "cell_type": "code",
   "execution_count": 3,
   "metadata": {},
   "outputs": [],
   "source": [
    "import os\n",
    "import copy\n",
    "import sys\n",
    "import time\n",
    "from datetime import datetime\n",
    "\n",
    "import numpy as np\n",
    "import matplotlib\n",
    "import matplotlib.pyplot as plt  \n",
    "\n",
    "from tensorflow import keras\n",
    "from tensorflow.keras import backend as K\n",
    "from tensorflow.keras import Model\n",
    "from tensorflow.keras.layers import Layer, Dense, Lambda\n",
    "from tensorflow.keras.regularizers import Regularizer"
   ]
  },
  {
   "cell_type": "markdown",
   "metadata": {},
   "source": [
    "# Communicating messages"
   ]
  },
  {
   "cell_type": "markdown",
   "metadata": {},
   "source": [
    "**An autoencoder-based communication systems aims to implement the transmitter, channel, and receiver as a single NN which reconstructs its input at its output**\n",
    "\n",
    "The goal is to learn a modulation wich will be robust with respect to the perturbations introduced by the channel.\n",
    "\n",
    "The channel is implemented as a \"Noise Layer\" without any learnable parameters, wich must be differentiable in order to perform SGD on the transmitter's parameters.\n",
    "\n",
    "Examples:\n",
    "\n",
    "- AWGN channel : $\\mathbf{y} = \\mathbf{x} + \\mathbf{w}$\n",
    "\n",
    "- Memoryless fading channel : $\\mathbf{y} = h \\mathbf{x} + \\mathbf{n} $\n",
    "- ..."
   ]
  },
  {
   "cell_type": "markdown",
   "metadata": {},
   "source": [
    "![autoencoder](https://github.com/mgoutay/autoencodeur/blob/master/Images/autoencoder.png?raw=true)"
   ]
  },
  {
   "cell_type": "markdown",
   "metadata": {},
   "source": [
    "First, let's transmit messages.\n",
    "\n",
    "The first hyper-parameters to set are the total number of messages $M$ and the number of channel uses $N_c$\n",
    "\n",
    "It can be seen that $M$ can also be seen as the modulation order. Indeed, sending one out of $M$ message is equivalent to sending $\\log_2(M)$ bits."
   ]
  },
  {
   "cell_type": "markdown",
   "metadata": {},
   "source": [
    "We will implement the fowllowing network:\n",
    "![model_0](https://github.com/mgoutay/autoencodeur/blob/master/Images/model_0.png?raw=true)"
   ]
  },
  {
   "cell_type": "markdown",
   "metadata": {},
   "source": [
    "## Define the layers"
   ]
  },
  {
   "cell_type": "code",
   "execution_count": 9,
   "metadata": {},
   "outputs": [],
   "source": [
    "class Transmitter(Layer):\n",
    "\n",
    "    def __init__(self, K, ch_uses=1, **kwargs):\n",
    "        super(Encoder, self).__init__(**kwargs)\n",
    "        self.M = int(2**self.K)\n",
    "        self.ch_uses = ch_uses\n",
    "\n",
    "    def build(self, input_shape):\n",
    "        self.emb_table = self.add_weight(shape=[self.M, self.M], \n",
    "                                          initializer='random_normal',\n",
    "                                          trainable=True)\n",
    "\n",
    "    def call(self, messages):\n",
    "        self.x_0 = tf.nn.embedding_lookup(self.emb_table, messages)\n",
    "        \n",
    "        # Normalize power per symbol to 1\n",
    "        self.en_moy =tf.sqrt(2 * tf.reduce_mean(tf.square(self.emb_table)))\n",
    "        self.x_norm = tf.divide(self.x, self.en_moy)\n",
    "        \n",
    "        #Real to complex\n",
    "        self.x_cplx = tf.complex(self.x_norm[:, :int(self.ch_uses)], self.x_norm[:, int(self.ch_uses):])\n",
    "            \n",
    "        return self.x_cplx"
   ]
  },
  {
   "cell_type": "code",
   "execution_count": null,
   "metadata": {},
   "outputs": [],
   "source": []
  },
  {
   "cell_type": "code",
   "execution_count": null,
   "metadata": {},
   "outputs": [],
   "source": []
  },
  {
   "cell_type": "code",
   "execution_count": 8,
   "metadata": {},
   "outputs": [],
   "source": [
    "# Number of bits per symbols\n",
    "K = 4\n",
    "M = np.power(2, K)\n",
    "\n",
    "# Number of channel uses\n",
    "ch_uses = 1"
   ]
  },
  {
   "cell_type": "markdown",
   "metadata": {},
   "source": [
    "# Define Layers"
   ]
  },
  {
   "cell_type": "code",
   "execution_count": 3,
   "metadata": {},
   "outputs": [],
   "source": [
    "class Encoder(Layer):\n",
    "\n",
    "    def __init__(self, K, ch_uses=1, **kwargs):\n",
    "        super(Encoder, self).__init__(**kwargs)\n",
    "        self.K = K\n",
    "        self.M = int(2**self.K)\n",
    "        self.ch_uses = ch_uses\n",
    "        self.bin_conv = tf.convert_to_tensor(np.flip([np.power(2, i) for i in range(self.K)]).astype(np.int32)) # (8, 4, 2, 1)\n",
    "\n",
    "    def build(self, input_shape):\n",
    "        self.emb_table = self.add_weight(shape=[self.M, 2*self.ch_uses], \n",
    "                                          initializer='random_normal',\n",
    "                                          trainable=True)\n",
    "\n",
    "    def call(self, bits):\n",
    "        self.bits_k = tf.reshape(bits, [-1, self.K])\n",
    "        self.s = tf.reduce_sum(self.bits_k*tf.expand_dims(self.bin_conv,axis= 0), axis=1)\n",
    "        self.x = tf.nn.embedding_lookup(self.emb_table, self.s)\n",
    "        \n",
    "        # Normalize power per symbol to 1\n",
    "        self.en_moy =tf.sqrt(2 * tf.reduce_mean(tf.square(self.emb_table)))\n",
    "        self.x_norm = tf.divide(self.x, self.en_moy)\n",
    "        #Real to complex\n",
    "        self.x_cplx = tf.complex(self.x_norm[:, :int(self.ch_uses)], self.x_norm[:, int(self.ch_uses):])\n",
    "            \n",
    "        return self.x_cplx"
   ]
  },
  {
   "cell_type": "code",
   "execution_count": 4,
   "metadata": {},
   "outputs": [],
   "source": [
    "class Channel(Layer):\n",
    "\n",
    "    def __init__(self, **kwargs):\n",
    "        super(Channel, self).__init__(**kwargs)\n",
    "\n",
    "    def call(self, x, noise_std):\n",
    "            \n",
    "        self.noise_r = tf.random.normal(shape = tf.shape(x), stddev = 1) * noise_std/tf.sqrt(2.)\n",
    "        self.noise_i = tf.random.normal(shape = tf.shape(x), stddev = 1) * noise_std/tf.sqrt(2.)\n",
    "        self.noise_cplx = tf.complex(self.noise_r, self.noise_i, name=\"noise\")\n",
    "        \n",
    "        self.y = x + self.noise_cplx\n",
    "            \n",
    "        return self.y"
   ]
  },
  {
   "cell_type": "code",
   "execution_count": 5,
   "metadata": {},
   "outputs": [],
   "source": [
    "class Decoder(Layer):\n",
    "\n",
    "    def __init__(self, K, **kwargs):\n",
    "        super(Decoder, self).__init__(**kwargs)\n",
    "        self.K = K\n",
    "        self.M = int(2**self.K)\n",
    "\n",
    "    def build(self, input_shape):\n",
    "        self.dense_0 = Dense(2*self.M, activation = tf.nn.relu)\n",
    "        self.dense_1 = Dense(self.M, activation = tf.nn.relu)\n",
    "        self.dense_2 = Dense(self.K, activation = None)\n",
    "\n",
    "    def call(self, y):\n",
    "        \n",
    "        self.y_real = tf.concat([tf.math.real(y), tf.math.imag(y)], axis=1)\n",
    "        self.d_0 = self.dense_0(self.y_real)\n",
    "        self.d_1 = self.dense_1(self.d_0)\n",
    "        self.d_2 = self.dense_2(self.d_1)\n",
    "        self.b_hat = tf.reshape(self.d_2, [-1])\n",
    "        \n",
    "        return self.b_hat"
   ]
  },
  {
   "cell_type": "markdown",
   "metadata": {},
   "source": [
    "# Define the model"
   ]
  },
  {
   "cell_type": "code",
   "execution_count": 6,
   "metadata": {},
   "outputs": [],
   "source": [
    "class Autoencoder(Model):\n",
    "\n",
    "    def __init__(self, K, ch_uses=1, **kwargs):\n",
    "        super(Autoencoder, self).__init__(**kwargs)\n",
    "        self.K = K\n",
    "        self.M = int(2**self.K)\n",
    "        self.ch_uses = ch_uses\n",
    "\n",
    "    def build(self, input_shape):\n",
    "        self.encoder = Encoder(self.K, self.ch_uses)\n",
    "        self.channel = Channel()\n",
    "        self.decoder = Decoder(self.K)\n",
    "    \n",
    "    def call(self, inputs):\n",
    "        \n",
    "        self.bits, self.snr = inputs\n",
    "        \n",
    "        self.noise_std = tf.sqrt( 2 / tf.pow(10., self.snr/10.0))\n",
    "        \n",
    "        self.x = self.encoder(self.bits)\n",
    "        self.y = self.channel(self.x, self.noise_std)\n",
    "        self.b_hat = self.decoder(self.y)\n",
    "        \n",
    "        return self.b_hat"
   ]
  },
  {
   "cell_type": "markdown",
   "metadata": {},
   "source": [
    "# Instantiate an  autoencoder"
   ]
  },
  {
   "cell_type": "code",
   "execution_count": 7,
   "metadata": {},
   "outputs": [],
   "source": [
    "# SNR at training\n",
    "snr = 15\n",
    "\n",
    "# Instantiate an autoencoder\n",
    "autoencoder = Autoencoder(K, ch_uses)\n",
    "\n",
    "#Initialize optimizer and loss function\n",
    "optimizer = tf.keras.optimizers.Adam()\n",
    "loss_func = tf.keras.losses.binary_crossentropy"
   ]
  },
  {
   "cell_type": "markdown",
   "metadata": {},
   "source": [
    "# Train"
   ]
  },
  {
   "cell_type": "code",
   "execution_count": 8,
   "metadata": {},
   "outputs": [],
   "source": [
    "def generate_ds_bits(epoch_len, batch_size, K, snr):\n",
    "    'Generate a dataset for training'\n",
    "    rand_bits = tf.random.uniform(shape=[epoch_len, batch_size*K], minval=0, maxval=2, dtype=tf.int32)\n",
    "    bits_ds = tf.data.Dataset.from_tensor_slices(rand_bits)\n",
    "    snr_ds = tf.data.Dataset.from_tensor_slices(snr*tf.ones(shape=[epoch_len, batch_size, 1]))\n",
    "    \n",
    "    features_ds = tf.data.Dataset.zip((bits_ds, snr_ds))\n",
    "    labels_ds = tf.data.Dataset.from_tensor_slices(rand_bits)\n",
    "    return (features_ds, labels_ds)"
   ]
  },
  {
   "cell_type": "code",
   "execution_count": 9,
   "metadata": {},
   "outputs": [
    {
     "name": "stdout",
     "output_type": "stream",
     "text": [
      "BER after each epoch:\n",
      "0.20965, 0.1574, 0.115525, 0.091375, 0.06895, 0.053125, 0.04455, 0.040375, 0.039375, 0.035125, \n",
      "\n",
      "Execution time : 19.777037143707275 seconds\n"
     ]
    }
   ],
   "source": [
    "batch_size = 10000\n",
    "epoch_size = 100\n",
    "nb_epoch = 10\n",
    "\n",
    "print('BER after each epoch:')\n",
    "\n",
    "start_time = time.time()\n",
    "for epoch in range(nb_epoch):\n",
    "    \n",
    "    # Create a dataset for each epoch\n",
    "    dataset = tf.data.Dataset.zip(generate_ds_bits(epoch_size, batch_size, K, snr))\n",
    "\n",
    "    # Iterate over the batches of the dataset.\n",
    "    for step, (features, labels) in enumerate(dataset):\n",
    "        # Open a GradientTape.\n",
    "        with tf.GradientTape() as tape:\n",
    "\n",
    "            # Forward pass.\n",
    "            b_hat_log = autoencoder(features)\n",
    "\n",
    "            # Loss value for this batch.\n",
    "            loss_value =  loss_func(labels, b_hat_log, from_logits=True)\n",
    "\n",
    "        # Get gradients of loss wrt the weights.\n",
    "        gradients = tape.gradient(loss_value, autoencoder.trainable_weights)\n",
    "\n",
    "        # Update the weights of our linear layer.\n",
    "        optimizer.apply_gradients(zip(gradients, autoencoder.trainable_weights))\n",
    "\n",
    "    b_hat = tf.cast(tf.sign(b_hat_log)/2+1, dtype=tf.int32)\n",
    "    ber = tf.reduce_sum(tf.abs(b_hat - labels))/(batch_size*K)\n",
    "    print(ber.numpy(), end=', ')\n",
    "\n",
    "print(\"\\n\\nExecution time : %s seconds\" % (time.time() - start_time))"
   ]
  },
  {
   "cell_type": "markdown",
   "metadata": {},
   "source": [
    "# See learned constellation"
   ]
  },
  {
   "cell_type": "markdown",
   "metadata": {},
   "source": [
    "You can now directly see what's inside each class :"
   ]
  },
  {
   "cell_type": "code",
   "execution_count": 35,
   "metadata": {},
   "outputs": [
    {
     "name": "stdout",
     "output_type": "stream",
     "text": [
      "[[-0.7658981 -0.04487091j]\n",
      " [-0.26066825+0.7347326j ]\n",
      " [ 1.250048  -0.14272638j]\n",
      " ...\n",
      " [ 0.05869472+1.1574969j ]\n",
      " [-0.25172818-0.11254451j]\n",
      " [ 0.6742501 +0.2404414j ]]\n"
     ]
    }
   ],
   "source": [
    "x = autoencoder.x.numpy()\n",
    "print(x)"
   ]
  },
  {
   "cell_type": "code",
   "execution_count": 11,
   "metadata": {},
   "outputs": [
    {
     "data": {
      "text/plain": [
       "<matplotlib.collections.PathCollection at 0x7f66e04d8d68>"
      ]
     },
     "execution_count": 11,
     "metadata": {},
     "output_type": "execute_result"
    },
    {
     "data": {
      "image/png": "[encoded data removed]",
      "text/plain": [
       "<Figure size 432x432 with 1 Axes>"
      ]
     },
     "metadata": {},
     "output_type": "display_data"
    }
   ],
   "source": [
    "plt.style.use('dark_background')\n",
    "plt.figure(figsize=(6,6))\n",
    "plt.scatter(np.real(x), np.imag(x))"
   ]
  },
  {
   "cell_type": "markdown",
   "metadata": {},
   "source": [
    "# Plot results"
   ]
  },
  {
   "cell_type": "code",
   "execution_count": 12,
   "metadata": {},
   "outputs": [],
   "source": [
    "def generate_bits(batch_size, K):\n",
    "    'Generate a batch for evaluating'\n",
    "    rand_bits = tf.random.uniform(shape=[batch_size*K], minval=0, maxval=2, dtype=tf.int32)\n",
    "    features = rand_bits\n",
    "    labels = rand_bits\n",
    "    return features, labels"
   ]
  },
  {
   "cell_type": "code",
   "execution_count": 13,
   "metadata": {},
   "outputs": [
    {
     "name": "stdout",
     "output_type": "stream",
     "text": [
      "-5, -4, -3, -2, -1, 0, 1, 2, 3, 4, 5, 6, 7, 8, 9, 10, 11, 12, 13, 14, 15, 16, 17, 18, 19, 20, 21, 22, 23, 24, 25, "
     ]
    }
   ],
   "source": [
    "snr_range = np.arange(-5, 26)\n",
    "results=[]\n",
    "bs_eval = 100000\n",
    "\n",
    "for snr in snr_range:\n",
    "    features, labels = generate_bits(bs_eval, K)\n",
    "    b_hat_log = autoencoder([features, snr])\n",
    "    b_hat = tf.cast(tf.sign(b_hat_log)/2+1, dtype=tf.int32)\n",
    "    ber = tf.reduce_sum(tf.abs(b_hat - labels))/(bs_eval*K)\n",
    "    results.append(ber.numpy())\n",
    "    print(snr, end=', ')"
   ]
  },
  {
   "cell_type": "code",
   "execution_count": 14,
   "metadata": {},
   "outputs": [
    {
     "data": {
      "image/png": "[encoded data removed]",
      "text/plain": [
       "<Figure size 576x360 with 1 Axes>"
      ]
     },
     "metadata": {},
     "output_type": "display_data"
    }
   ],
   "source": [
    "plt.figure(figsize=(8, 5))\n",
    "plt.semilogy(snr_range, results)\n",
    "plt.xlabel('SNR(dB)')\n",
    "plt.ylabel('BER');\n",
    "plt.grid(which='major', alpha=0.5)\n",
    "plt.grid(which='minor', alpha=0.25)"
   ]
  },
  {
   "cell_type": "markdown",
   "metadata": {},
   "source": [
    "# Tensorboard and @tf.function: create the model in a graph as in TF 1.x"
   ]
  },
  {
   "cell_type": "markdown",
   "metadata": {},
   "source": [
    "Add the decorator @tf.function before the call function"
   ]
  },
  {
   "cell_type": "code",
   "execution_count": 28,
   "metadata": {},
   "outputs": [],
   "source": [
    "class Autoencoder_graph(Model):\n",
    "\n",
    "    def __init__(self, K, ch_uses=1, **kwargs):\n",
    "        super(Autoencoder_graph, self).__init__(**kwargs)\n",
    "        self.K = K\n",
    "        self.M = int(2**self.K)\n",
    "        self.ch_uses = ch_uses\n",
    "\n",
    "    def build(self, input_shape):\n",
    "        self.encoder = Encoder(self.K, self.ch_uses)\n",
    "        self.channel = Channel()\n",
    "        self.decoder = Decoder(self.K)\n",
    "    \n",
    "    @tf.function\n",
    "    def call(self, inputs):\n",
    "        \n",
    "        self.bits, self.snr = inputs\n",
    "        \n",
    "        self.noise_std = tf.sqrt( 2 / tf.pow(10., self.snr/10.0))\n",
    "        \n",
    "        self.x = self.encoder(self.bits)\n",
    "        self.y = self.channel(self.x, self.noise_std)\n",
    "        self.b_hat = self.decoder(self.y)\n",
    "        \n",
    "        return self.b_hat"
   ]
  },
  {
   "cell_type": "code",
   "execution_count": 33,
   "metadata": {},
   "outputs": [],
   "source": [
    "K = 4\n",
    "ch_uses = 1\n",
    "snr = 15\n",
    "\n",
    "autoencoder_graph = Autoencoder_graph(K, ch_uses)"
   ]
  },
  {
   "cell_type": "markdown",
   "metadata": {},
   "source": [
    "If the model is created in a graph, then we can use `tf.summary.trace_on()` to view the graph on Tensorboard :"
   ]
  },
  {
   "cell_type": "code",
   "execution_count": 30,
   "metadata": {},
   "outputs": [],
   "source": [
    "# Create the writer for tensorboard\n",
    "current_time = datetime.now().strftime(\"%Y%m%d-%H%M%S\")\n",
    "train_log_dir = './logs/gradient_tape/' + current_time + '/train'\n",
    "train_summary_writer = tf.summary.create_file_writer(train_log_dir)\n",
    "\n",
    "#Do only one batch\n",
    "dataset = tf.data.Dataset.zip(generate_ds_bits(1, batch_size, K, snr))\n",
    "\n",
    "#Trace the model\n",
    "for step, (features, labels) in enumerate(dataset):\n",
    "    tf.summary.trace_on(graph=True, profiler=True)\n",
    "    b_hat_log = autoencoder_graph(features)\n",
    "    with train_summary_writer.as_default():\n",
    "        tf.summary.trace_export(\n",
    "            name=\"my_func_trace\",\n",
    "            step=0,\n",
    "            profiler_outdir=train_log_dir)"
   ]
  },
  {
   "cell_type": "markdown",
   "metadata": {},
   "source": [
    "To visualise the Tensorboard session, open a terminal (File -> New -> Terminal), go to the current folder, and type\n",
    "\n",
    "`tensorboard --logdir ./logs --bind_all`\n",
    "\n",
    "\n",
    "Then go to http://127.0.0.1:10001 or http://127.0.0.1:10002 (or ...) on your browser"
   ]
  },
  {
   "cell_type": "code",
   "execution_count": 34,
   "metadata": {},
   "outputs": [
    {
     "name": "stdout",
     "output_type": "stream",
     "text": [
      "BER after each epoch:\n",
      "0.101525, 0.065575, 0.043425, 0.03695, 0.0365, 0.0344, 0.035325, 0.034, 0.0334, 0.03485, \n",
      "\n",
      "Execution time : 11.545795202255249 seconds\n"
     ]
    }
   ],
   "source": [
    "batch_size = 10000\n",
    "epoch_size = 100\n",
    "nb_epoch = 10\n",
    "\n",
    "# Create the writer for tensorboard\n",
    "current_time = datetime.now().strftime(\"%Y%m%d-%H%M%S\")\n",
    "train_log_dir = './logs/gradient_tape/' + current_time + '/train'\n",
    "train_summary_writer = tf.summary.create_file_writer(train_log_dir)\n",
    "\n",
    "#Initialise some metrics that we want to display in Tensorboard\n",
    "train_loss = tf.keras.metrics.Mean('train_loss', dtype=tf.float32)\n",
    "train_ber = tf.keras.metrics.Mean('train_BER', dtype=tf.float32)\n",
    "    \n",
    "print('BER after each epoch:')\n",
    "    \n",
    "start_time = time.time()\n",
    "for epoch in range(nb_epoch):\n",
    "    \n",
    "    # Create a dataset for each epoch\n",
    "    dataset = tf.data.Dataset.zip(generate_ds_bits(epoch_size, batch_size, K, snr))\n",
    "\n",
    "    # Iterate over the batches of the dataset.\n",
    "    for step, (features, labels) in enumerate(dataset):\n",
    "        # Open a GradientTape.\n",
    "        with tf.GradientTape() as tape:\n",
    "                        \n",
    "            # Forward pass.\n",
    "            b_hat_log = autoencoder_graph(features)\n",
    "\n",
    "            # Loss value for this batch.\n",
    "            loss_value =  loss_func(labels, b_hat_log, from_logits=True)\n",
    "            \n",
    "        # Get gradients of loss wrt the weights.\n",
    "        gradients = tape.gradient(loss_value, autoencoder_graph.trainable_weights)\n",
    "\n",
    "        # Update the weights of our linear layer.\n",
    "        optimizer.apply_gradients(zip(gradients, autoencoder_graph.trainable_weights))\n",
    "\n",
    "    b_hat = tf.cast(tf.sign(b_hat_log)/2+1, dtype=tf.int32)\n",
    "    ber = tf.reduce_sum(tf.abs(b_hat - labels))/(batch_size*K)\n",
    "    print(ber.numpy(), end=', ')\n",
    "    \n",
    "    #Write the metrics\n",
    "    with train_summary_writer.as_default():\n",
    "        train_loss(loss_value)\n",
    "        train_ber(tf.constant(ber))\n",
    "        tf.summary.scalar('loss', train_loss.result(), step=epoch)\n",
    "        tf.summary.scalar('BER', train_ber.result(), step=epoch)\n",
    "    #Reset the metrics\n",
    "    train_loss.reset_states()\n",
    "    train_ber.reset_states()\n",
    "        \n",
    "print(\"\\n\\nExecution time : %s seconds\" % (time.time() - start_time))"
   ]
  },
  {
   "cell_type": "markdown",
   "metadata": {},
   "source": [
    "- Don't hesitate to refresh the Tensorboard page to see the new metrics\n",
    "- The Tensorboard metrics can be called even when the model is not in a graph.\n",
    "- The execution is (much) faster, but you loose acces to the variables inside the graph :"
   ]
  },
  {
   "cell_type": "code",
   "execution_count": 19,
   "metadata": {},
   "outputs": [
    {
     "name": "stdout",
     "output_type": "stream",
     "text": [
      "Tensor(\"encoder_1/Complex:0\", shape=(10000, 1), dtype=complex64)\n",
      "\n",
      "/!\\ AttributeError: Tensor object has no attribute numpy\n"
     ]
    }
   ],
   "source": [
    "print(autoencoder_graph.x)\n",
    "\n",
    "try:\n",
    "    print(autoencoder_graph.x.numpy())\n",
    "except:\n",
    "    print('\\n/!\\ AttributeError: Tensor object has no attribute numpy')"
   ]
  },
  {
   "cell_type": "markdown",
   "metadata": {},
   "source": [
    "# Building a model"
   ]
  },
  {
   "cell_type": "markdown",
   "metadata": {},
   "source": [
    "If you decide to create graphs, you can also compile your model and use standard Keras function like fit() to train it."
   ]
  },
  {
   "cell_type": "code",
   "execution_count": 20,
   "metadata": {},
   "outputs": [
    {
     "name": "stdout",
     "output_type": "stream",
     "text": [
      "Epoch 1/10\n",
      "250/250 [==============================] - 3s 10ms/step - loss: 1.0558\n",
      "Epoch 2/10\n",
      "250/250 [==============================] - 2s 7ms/step - loss: 0.3954\n",
      "Epoch 3/10\n",
      "250/250 [==============================] - 2s 6ms/step - loss: 0.2591\n",
      "Epoch 4/10\n",
      "250/250 [==============================] - 2s 6ms/step - loss: 0.1965\n",
      "Epoch 5/10\n",
      "250/250 [==============================] - 2s 6ms/step - loss: 0.1965\n",
      "Epoch 6/10\n",
      "250/250 [==============================] - 2s 6ms/step - loss: 0.1966\n",
      "Epoch 7/10\n",
      "250/250 [==============================] - 2s 6ms/step - loss: 0.1615\n",
      "Epoch 8/10\n",
      "250/250 [==============================] - 2s 6ms/step - loss: 0.1433\n",
      "Epoch 9/10\n",
      "250/250 [==============================] - 2s 6ms/step - loss: 0.1273\n",
      "Epoch 10/10\n",
      "250/250 [==============================] - 2s 6ms/step - loss: 0.1252\n"
     ]
    },
    {
     "data": {
      "text/plain": [
       "<tensorflow.python.keras.callbacks.History at 0x7f66e0549b70>"
      ]
     },
     "execution_count": 20,
     "metadata": {},
     "output_type": "execute_result"
    }
   ],
   "source": [
    "# Instantiate an autoencoder\n",
    "autoencoder_graph_2 = Autoencoder_graph(K, ch_uses)\n",
    "\n",
    "#Initialise optimizer and loss function\n",
    "optimizer = tf.keras.optimizers.Adam()\n",
    "loss_func = tf.keras.losses.binary_crossentropy\n",
    "\n",
    "#Generate dataset\n",
    "batch_size = 10000\n",
    "epoch_size = 250\n",
    "nb_epoch = 10\n",
    "dataset = tf.data.Dataset.zip(generate_ds_bits(epoch_size, batch_size, K, snr))\n",
    "\n",
    "#Compile and fit\n",
    "autoencoder_graph_2.compile(optimizer, loss_func)\n",
    "autoencoder_graph_2.fit(dataset, epochs=nb_epoch)"
   ]
  },
  {
   "cell_type": "code",
   "execution_count": 21,
   "metadata": {},
   "outputs": [
    {
     "name": "stdout",
     "output_type": "stream",
     "text": [
      "Model: \"autoencoder_graph_1\"\n",
      "_________________________________________________________________\n",
      "Layer (type)                 Output Shape              Param #   \n",
      "=================================================================\n",
      "encoder (Encoder)            multiple                  32        \n",
      "_________________________________________________________________\n",
      "channel (Channel)            multiple                  0         \n",
      "_________________________________________________________________\n",
      "decoder (Decoder)            multiple                  692       \n",
      "=================================================================\n",
      "Total params: 724\n",
      "Trainable params: 724\n",
      "Non-trainable params: 0\n",
      "_________________________________________________________________\n"
     ]
    }
   ],
   "source": [
    "autoencoder_graph_2.summary()"
   ]
  },
  {
   "cell_type": "code",
   "execution_count": null,
   "metadata": {},
   "outputs": [],
   "source": []
  }
 ],
 "metadata": {
  "kernelspec": {
   "display_name": "Python 3",
   "language": "python",
   "name": "python3"
  },
  "language_info": {
   "codemirror_mode": {
    "name": "ipython",
    "version": 3
   },
   "file_extension": ".py",
   "mimetype": "text/x-python",
   "name": "python",
   "nbconvert_exporter": "python",
   "pygments_lexer": "ipython3",
   "version": "3.6.8"
  }
 },
 "nbformat": 4,
 "nbformat_minor": 4
}
