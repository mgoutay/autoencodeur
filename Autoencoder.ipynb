{
 "cells": [
  {
   "cell_type": "markdown",
   "metadata": {},
   "source": [
    "# The Physical Layer as an Autoencoder\n"
   ]
  },
  {
   "cell_type": "markdown",
   "metadata": {},
   "source": [
    "**First : change the runtime and hardware acceleration**\n",
    "\n",
    "Runtime $\\rightarrow$ Change runtime type\n",
    "\n",
    "- Runtime type : Python 3\n",
    "- Hardware accelerator : GPU"
   ]
  },
  {
   "cell_type": "markdown",
   "metadata": {},
   "source": [
    "An autoencoder is a type of artificial neural network used to find a useful representation of some data $\\mathbf{s}$ at an intermediate layer $\\mathbf{x}$ through learning to reproduce the input at the output.\n",
    "\n",
    "![autoencoder_0](https://github.com/mgoutay/autoencodeur/blob/master/Images/autoencoder_0.png?raw=true)\n",
    "\n"
   ]
  },
  {
   "cell_type": "markdown",
   "metadata": {},
   "source": [
    "# Initialisation"
   ]
  },
  {
   "cell_type": "code",
   "execution_count": 45,
   "metadata": {},
   "outputs": [],
   "source": [
    "# Install TensorFlow 2.0 on Google Collab if needed\n",
    "try:\n",
    "  # %tensorflow_version only exists in Colab.\n",
    "  %tensorflow_version 2.x\n",
    "except Exception:\n",
    "    pass"
   ]
  },
  {
   "cell_type": "code",
   "execution_count": 46,
   "metadata": {},
   "outputs": [
    {
     "name": "stdout",
     "output_type": "stream",
     "text": [
      "Tensorflow version:  2.0.0\n",
      "Number of GPUs available : 4\n",
      "Only GPU number 0 used\n"
     ]
    }
   ],
   "source": [
    "#Set the GPU you want to use\n",
    "num_GPU = 0\n",
    "\n",
    "import tensorflow as tf\n",
    "print('Tensorflow version: ', tf.__version__)\n",
    "\n",
    "gpus = tf.config.experimental.list_physical_devices(\"GPU\")\n",
    "print('Number of GPUs available :', len(gpus))\n",
    "\n",
    "if num_GPU < len(gpus):\n",
    "    tf.config.experimental.set_visible_devices(gpus[num_GPU], 'GPU')\n",
    "    tf.config.experimental.set_memory_growth(gpus[num_GPU], True)\n",
    "    print('Only GPU number', num_GPU, 'used')"
   ]
  },
  {
   "cell_type": "code",
   "execution_count": 47,
   "metadata": {},
   "outputs": [],
   "source": [
    "import os\n",
    "import copy\n",
    "import sys\n",
    "import time\n",
    "from datetime import datetime\n",
    "\n",
    "import numpy as np\n",
    "import matplotlib\n",
    "import matplotlib.pyplot as plt  \n",
    "\n",
    "from tensorflow import keras\n",
    "from tensorflow.keras import backend as K\n",
    "from tensorflow.keras import Model\n",
    "from tensorflow.keras.layers import Layer, Dense, Lambda\n",
    "from tensorflow.keras.regularizers import Regularizer"
   ]
  },
  {
   "cell_type": "markdown",
   "metadata": {},
   "source": [
    "# Communicating messages"
   ]
  },
  {
   "cell_type": "markdown",
   "metadata": {},
   "source": [
    "**An autoencoder-based communication systems aims to implement the transmitter, channel, and receiver as a single NN which reconstructs its input at its output**\n",
    "\n",
    "The goal is to learn a modulation wich will be robust with respect to the perturbations introduced by the channel.\n",
    "\n",
    "The channel is implemented as a \"Noise Layer\" without any learnable parameters, wich must be differentiable in order to perform SGD on the transmitter's parameters.\n",
    "\n",
    "Examples:\n",
    "\n",
    "- AWGN channel : $\\mathbf{y} = \\mathbf{x} + \\mathbf{w}$\n",
    "\n",
    "- Memoryless fading channel : $\\mathbf{y} = h \\mathbf{x} + \\mathbf{n} $\n",
    "- ..."
   ]
  },
  {
   "cell_type": "markdown",
   "metadata": {},
   "source": [
    "![autoencoder](https://github.com/mgoutay/autoencodeur/blob/master/Images/autoencoder.png?raw=true)"
   ]
  },
  {
   "cell_type": "markdown",
   "metadata": {},
   "source": [
    "First, let's transmit messages.\n",
    "\n",
    "The first hyper-parameters to set are the total number of messages $M$ and the number of channel uses $N_c$\n",
    "\n",
    "It can be seen that $M$ can also be seen as the modulation order. Indeed, sending one out of $M$ message is equivalent to sending $\\log_2(M)$ bits."
   ]
  },
  {
   "cell_type": "markdown",
   "metadata": {},
   "source": [
    "We will implement the fowllowing network:\n",
    "![model_0](https://github.com/mgoutay/autoencodeur/blob/master/Images/model_0.png?raw=true)"
   ]
  },
  {
   "cell_type": "code",
   "execution_count": 269,
   "metadata": {},
   "outputs": [],
   "source": [
    "# Number of messages\n",
    "M = 16\n",
    "\n",
    "# Number of channel uses\n",
    "ch_uses = 1"
   ]
  },
  {
   "cell_type": "markdown",
   "metadata": {},
   "source": [
    "## Define the layers"
   ]
  },
  {
   "cell_type": "code",
   "execution_count": 270,
   "metadata": {},
   "outputs": [],
   "source": [
    "class Transmitter(Layer):\n",
    "\n",
    "    def __init__(self, M, ch_uses=1, **kwargs):\n",
    "        super(Transmitter, self).__init__(**kwargs)\n",
    "        self.M = M\n",
    "        self.ch_uses = ch_uses\n",
    "\n",
    "    def build(self, input_shape):\n",
    "        self.emb_table = self.add_weight(shape=[self.M, 2*self.ch_uses], \n",
    "                                          initializer='random_normal',\n",
    "                                          trainable=True)\n",
    "\n",
    "    def call(self, messages):\n",
    "        #Embedding\n",
    "        self.x = tf.nn.embedding_lookup(self.emb_table, messages)\n",
    "        \n",
    "        # Normalize power per symbol to 1\n",
    "        self.en_moy =tf.sqrt(2 * tf.reduce_mean(tf.square(self.emb_table)))\n",
    "        self.x_norm = tf.divide(self.x, self.en_moy)\n",
    "        \n",
    "        #Real to complex\n",
    "        self.x_cplx = tf.complex(self.x_norm[:, :int(self.ch_uses)], self.x_norm[:, int(self.ch_uses):])\n",
    "            \n",
    "        return self.x_cplx"
   ]
  },
  {
   "cell_type": "code",
   "execution_count": 271,
   "metadata": {},
   "outputs": [],
   "source": [
    "class Channel(Layer):\n",
    "\n",
    "    def __init__(self, **kwargs):\n",
    "        super(Channel, self).__init__(**kwargs)\n",
    "\n",
    "    def call(self, x, noise_stddev):\n",
    "            \n",
    "        self.noise_r = tf.random.normal(shape = tf.shape(x), stddev = 1) * noise_stddev/tf.sqrt(2.)\n",
    "        self.noise_i = tf.random.normal(shape = tf.shape(x), stddev = 1) * noise_stddev/tf.sqrt(2.)\n",
    "        self.noise_cplx = tf.complex(self.noise_r, self.noise_i, name=\"noise\")\n",
    "        \n",
    "        self.y = x + self.noise_cplx\n",
    "            \n",
    "        return self.y"
   ]
  },
  {
   "cell_type": "code",
   "execution_count": 272,
   "metadata": {},
   "outputs": [],
   "source": [
    "class Receiver(Layer):\n",
    "\n",
    "    def __init__(self, M, **kwargs):\n",
    "        super(Receiver, self).__init__(**kwargs)\n",
    "        self.M = M\n",
    "\n",
    "    def build(self, input_shape):\n",
    "        self.dense_0 = Dense(4*self.M, activation = tf.nn.relu)\n",
    "        self.dense_1 = Dense(2*self.M, activation = tf.nn.relu)\n",
    "        self.dense_2 = Dense(self.M, activation = None)\n",
    "\n",
    "    def call(self, y):\n",
    "        # Complex to Real\n",
    "        self.y_real = tf.concat([tf.math.real(y), tf.math.imag(y)], axis=1)\n",
    "        \n",
    "        #Dense layers\n",
    "        self.d_0 = self.dense_0(self.y_real)\n",
    "        self.d_1 = self.dense_1(self.d_0)\n",
    "        self.d_2 = self.dense_2(self.d_1)\n",
    "        \n",
    "        #Softmax\n",
    "        self.p_m = tf.nn.softmax(self.d_2)\n",
    "        \n",
    "        return self.p_m"
   ]
  },
  {
   "cell_type": "markdown",
   "metadata": {},
   "source": [
    "## Define the model"
   ]
  },
  {
   "cell_type": "code",
   "execution_count": 273,
   "metadata": {},
   "outputs": [],
   "source": [
    "class Autoencoder(Model):\n",
    "\n",
    "    def __init__(self, M, ch_uses=1, **kwargs):\n",
    "        super(Autoencoder, self).__init__(**kwargs)\n",
    "        self.M = M\n",
    "        self.ch_uses = ch_uses\n",
    "\n",
    "    def build(self, input_shape):\n",
    "        self.tx = Transmitter(self.M, self.ch_uses)\n",
    "        self.ch = Channel()\n",
    "        self.rx = Receiver(self.M)\n",
    "    \n",
    "    def call(self, inputs):\n",
    "        \n",
    "        self.messages, self.snr = inputs\n",
    "        \n",
    "        self.noise_stddev = tf.sqrt( 2 / tf.pow(10., self.snr/10.0))\n",
    "        \n",
    "        self.x = self.tx(self.messages)\n",
    "        self.y = self.ch(self.x, self.noise_stddev)\n",
    "        self.p_m = self.rx(self.y)\n",
    "        \n",
    "        return self.p_m"
   ]
  },
  {
   "cell_type": "markdown",
   "metadata": {},
   "source": [
    "## Instantiate the autoencoder"
   ]
  },
  {
   "cell_type": "code",
   "execution_count": 274,
   "metadata": {},
   "outputs": [],
   "source": [
    "# SNR at training\n",
    "training_snr = 15\n",
    "\n",
    "# Instantiate an autoencoder\n",
    "autoencoder = Autoencoder(M, ch_uses)\n",
    "\n",
    "#Initialize optimizer\n",
    "optimizer = tf.keras.optimizers.Adam()"
   ]
  },
  {
   "cell_type": "markdown",
   "metadata": {},
   "source": [
    "## Generate messages"
   ]
  },
  {
   "cell_type": "code",
   "execution_count": 275,
   "metadata": {},
   "outputs": [],
   "source": [
    "def generate_ds_msg(epoch_len, batch_size, M, training_snr):\n",
    "    'Generate epoch_len batches of messages'\n",
    "    \n",
    "    rand_msg = tf.random.uniform(shape=[epoch_len, batch_size], minval=0, maxval=M, dtype=tf.int32)\n",
    "    msg_ds = tf.data.Dataset.from_tensor_slices(rand_msg)\n",
    "    snr_ds = tf.data.Dataset.from_tensor_slices(training_snr*tf.ones(shape=[epoch_len, batch_size, 1]))\n",
    "    \n",
    "    features_ds = tf.data.Dataset.zip((msg_ds, snr_ds))\n",
    "    labels_ds = msg_ds\n",
    "    return (features_ds, labels_ds)"
   ]
  },
  {
   "cell_type": "markdown",
   "metadata": {},
   "source": [
    "## What about the loss function?\n",
    "\n",
    "The loss function is the **sparse** (there is only one good class) **categorical cross-entropy**:\n",
    "\n",
    "$$\n",
    "\\begin{align*}\n",
    "L(\\theta_T, \\theta_R) &= \\mathbb{E}_{m, y}[ - \\log(\\hat{p_{\\theta_R}}(m | y)) ], y \\thicksim p(y|x)\\\\\n",
    "&= H(m) - I_{\\theta_T}(m; y) + \\mathbb{E}_{s, y} [ D_{KL} (p_{\\theta_R}(m|y) || \\hat{p_{\\theta_R}}(m|y)) ]\\\\\n",
    "\\end{align*}\n",
    "$$\n",
    "\n",
    "- $H(m)$ is the entropy  of the source\n",
    "\n",
    "- $I_{\\theta_T}(m; y) = I_{\\theta_T}(m; y)$ is the mutual information between the sent and the received symbols\n",
    "\n",
    "- $D_{KL} (p_{\\theta_R}(m|y) || \\hat{p_{\\theta_R}}(m|y))$ is the KL-Divergence between the true and the predicted distributions\n",
    "\n",
    "Hence, minimizing the sparse categorical cross-entropy loss both maximize the mutual information and minimize the KL-divergence between the true and the predicted distribution"
   ]
  },
  {
   "cell_type": "code",
   "execution_count": 276,
   "metadata": {},
   "outputs": [],
   "source": [
    "loss_func = tf.keras.losses.SparseCategoricalCrossentropy()"
   ]
  },
  {
   "cell_type": "markdown",
   "metadata": {},
   "source": [
    "## Train"
   ]
  },
  {
   "cell_type": "code",
   "execution_count": 277,
   "metadata": {},
   "outputs": [
    {
     "name": "stdout",
     "output_type": "stream",
     "text": [
      "SER after each epoch:\n",
      "0.4922, 0.2749, 0.1728, 0.1219, 0.1097, 0.1097, 0.1057, 0.1073, 0.1039, 0.1075, \n",
      "\n",
      "Execution time : 17.143022537231445 seconds\n"
     ]
    }
   ],
   "source": [
    "batch_size = 10000\n",
    "epoch_size = 100\n",
    "nb_epoch = 10\n",
    "\n",
    "print('SER after each epoch:')\n",
    "\n",
    "start_time = time.time()\n",
    "for epoch in range(nb_epoch):\n",
    "    \n",
    "    # Create a dataset for each epoch\n",
    "    dataset = tf.data.Dataset.zip(generate_ds_msg(epoch_size, batch_size, M, training_snr))\n",
    "\n",
    "    # Iterate over the batches of the dataset.\n",
    "    for step, (features, labels) in enumerate(dataset):\n",
    "        # Open a GradientTape.\n",
    "        with tf.GradientTape() as tape:\n",
    "\n",
    "            # Forward pass.\n",
    "            p_m = autoencoder(features)\n",
    "\n",
    "            # Loss value for this batch.\n",
    "            loss_value =  loss_func(y_true=labels, y_pred=p_m)\n",
    "\n",
    "        # Get gradients of loss wrt the weights.\n",
    "        gradients = tape.gradient(loss_value, autoencoder.trainable_weights)\n",
    "\n",
    "        # Update the weights of our linear layer.\n",
    "        optimizer.apply_gradients(zip(gradients, autoencoder.trainable_weights))\n",
    "    \n",
    "    #Take the argmax of the probability distribution as the estimated message\n",
    "    m_hat = tf.argmax(p_m, axis=1, output_type=tf.int32)\n",
    "    \n",
    "    ser = tf.reduce_sum(tf.clip_by_value(tf.abs(labels-m_hat), 0, 1))/(batch_size)\n",
    "    print(ser.numpy(), end=', ')\n",
    "\n",
    "print(\"\\n\\nExecution time : %s seconds\" % (time.time() - start_time))"
   ]
  },
  {
   "cell_type": "markdown",
   "metadata": {},
   "source": [
    "## Evaluate the model"
   ]
  },
  {
   "cell_type": "code",
   "execution_count": 278,
   "metadata": {},
   "outputs": [
    {
     "name": "stdout",
     "output_type": "stream",
     "text": [
      "-5, -4, -3, -2, -1, 0, 1, 2, 3, 4, 5, 6, 7, 8, 9, 10, 11, 12, 13, 14, 15, 16, 17, 18, 19, 20, "
     ]
    }
   ],
   "source": [
    "snr_range = np.arange(-5, 21)\n",
    "results=[]\n",
    "bs_eval = 100000\n",
    "\n",
    "for eval_snr in snr_range:\n",
    "    \n",
    "    batch_msg = tf.random.uniform(shape=[bs_eval], minval=0, maxval=M, dtype=tf.int32)\n",
    "    batch_snr = eval_snr*tf.ones(shape=[bs_eval, 1])\n",
    "    \n",
    "    p_m = autoencoder([batch_msg, batch_snr])\n",
    "    m_hat = tf.argmax(p_m, axis=1, output_type=tf.int32)\n",
    "    \n",
    "    ser = tf.reduce_sum(tf.clip_by_value(tf.abs(batch_msg-m_hat), 0, 1))/(bs_eval)\n",
    "    print(eval_snr, end=', ')\n",
    "    results.append(ser.numpy())"
   ]
  },
  {
   "cell_type": "code",
   "execution_count": 279,
   "metadata": {},
   "outputs": [
    {
     "data": {
      "image/png": "[encoded data removed]",
      "text/plain": [
       "<Figure size 576x360 with 1 Axes>"
      ]
     },
     "metadata": {
      "needs_background": "light"
     },
     "output_type": "display_data"
    }
   ],
   "source": [
    "plt.figure(figsize=(8, 5))\n",
    "plt.semilogy(snr_range, results)\n",
    "plt.xlabel('SNR(dB)')\n",
    "plt.ylabel('SER');\n",
    "plt.grid(which='major', alpha=0.5)\n",
    "plt.grid(which='minor', alpha=0.25)"
   ]
  },
  {
   "cell_type": "markdown",
   "metadata": {},
   "source": [
    "## See learned constellation"
   ]
  },
  {
   "cell_type": "code",
   "execution_count": 286,
   "metadata": {},
   "outputs": [],
   "source": [
    "# Form a batch containing every message\n",
    "batch_msg = tf.cast(tf.linspace(0., M-1, M), tf.int32)\n",
    "batch_snr = training_snr*tf.ones(shape=[M, 1])\n",
    "\n",
    "p_b = autoencoder([batch_msg, batch_snr])"
   ]
  },
  {
   "cell_type": "code",
   "execution_count": 289,
   "metadata": {},
   "outputs": [
    {
     "data": {
      "image/png": "[encoded data removed]",
      "text/plain": [
       "<Figure size 432x432 with 1 Axes>"
      ]
     },
     "metadata": {
      "needs_background": "light"
     },
     "output_type": "display_data"
    }
   ],
   "source": [
    "msg_np = batch_msg.numpy()\n",
    "x_np = autoencoder.x.numpy()\n",
    "plt.figure(figsize=(6,6))\n",
    "plt.scatter(np.real(x_np), np.imag(x_np))\n",
    "for i in range(np.shape(x_np)[0]) :\n",
    "    plt.text(np.real(x_np[i]), np.imag(x_np[i]), str(msg_np[i]), fontsize=18)"
   ]
  },
  {
   "cell_type": "markdown",
   "metadata": {},
   "source": [
    "# Communicating bits"
   ]
  },
  {
   "cell_type": "markdown",
   "metadata": {},
   "source": [
    "We now want to transmit bits. But how to optimally label them?\n",
    "\n",
    "![label](https://github.com/mgoutay/autoencodeur/blob/master/Images/which_bits.png?raw=true)\n",
    "\n",
    "\n",
    "Let's say we want to send $K$ bits over $N_c$ chanel uses (sending $K$ bits is equivalent to sending one out of $M = 2^K$ messsages) ."
   ]
  },
  {
   "cell_type": "markdown",
   "metadata": {},
   "source": [
    "**An information theory perspective :**\n",
    "\n",
    "![bits_0](https://github.com/mgoutay/autoencodeur/blob/master/Images/bits_0.png?raw=true)\n",
    "\n",
    "$$\n",
    "\\begin{align*}\n",
    "I(X;Y) &= I(\\mathbf{B};Y)\\\\\n",
    "&= H(\\mathbf{B}) - H(\\mathbf{B}|Y)\\\\\n",
    "&= \\sum_{k=1}^{K} H(B_k | B_{k-1}, ..., B_1) - \\sum_{k=1}^{K} H(B_k | Y, B_{k-1}, ..., B_1) \\\\\n",
    "\\end{align*}\n",
    "$$\n",
    "\n",
    "If we want to maximize the mutual information between $X$ and $Y$ (or equivalently between $B$ and $Y$ as there is a direct mapping from $B$ to $X$), we need:\n",
    "\n",
    "* Multistage decoding at the receiver\n",
    "* Multilevel coding at the transmitter\n",
    "\n",
    "which is highly not practical"
   ]
  },
  {
   "cell_type": "markdown",
   "metadata": {},
   "source": [
    "A widly used simplification is to only consider the rate $R$:\n",
    "\n",
    "![bits_2](https://github.com/mgoutay/autoencodeur/blob/master/Images/bits_2.png?raw=true)\n",
    "\n",
    "![bits_3](https://github.com/mgoutay/autoencodeur/blob/master/Images/bits_3.png?raw=true)\n",
    "\n",
    "$R$ is achievable using:\n",
    "* Bit-metric decoding at the receiver\n",
    "* Bit interleaved coded modulation at the transmitter"
   ]
  },
  {
   "cell_type": "code",
   "execution_count": 248,
   "metadata": {},
   "outputs": [],
   "source": [
    "# Number of bits per symbols\n",
    "K = 4\n",
    "\n",
    "# Number of channel uses\n",
    "ch_uses = 1"
   ]
  },
  {
   "cell_type": "markdown",
   "metadata": {},
   "source": [
    "## Define Layers\n",
    "\n",
    "We will use the same models than for the transmission of messages with a few modification:\n",
    "* The transmitter now accepts a vecot or $K$ bits\n",
    "* The receiver ouputs Log Likelihood Ratios for each of the $K$ bits\n",
    "* Those LLRs are then passed through a sigmoid function to ouptut $\\hat{p}_{\\theta_{R}}(b_k|y)_{k=1, ..., K}$\n",
    "\n",
    "![bits_4](https://github.com/mgoutay/autoencodeur/blob/master/Images/bits_4.png?raw=true)\n"
   ]
  },
  {
   "cell_type": "code",
   "execution_count": 249,
   "metadata": {},
   "outputs": [],
   "source": [
    "class Transmitter(Layer):\n",
    "\n",
    "    def __init__(self, K, ch_uses=1, **kwargs):\n",
    "        super(Transmitter, self).__init__(**kwargs)\n",
    "        self.K = K\n",
    "        self.M = int(2**self.K)\n",
    "        self.ch_uses = ch_uses\n",
    "        \n",
    "        # Vector [2^K, ..., 2^1, 2^0]\n",
    "        self.bin_conv = tf.convert_to_tensor(np.flip([np.power(2, i) for i in range(self.K)]).astype(np.int32))\n",
    "\n",
    "    def build(self, input_shape):\n",
    "        self.emb_table = self.add_weight(shape=[self.M, 2*self.ch_uses], \n",
    "                                          initializer='random_normal',\n",
    "                                          trainable=True)\n",
    "\n",
    "    def call(self, bits):\n",
    "        # Find the messages m \\in {0, ..., M-1} corresponding to each vector of K bits\n",
    "        self.m = tf.reduce_sum(bits*tf.expand_dims(self.bin_conv,axis= 0), axis=1)\n",
    "        \n",
    "        # Embedding\n",
    "        self.x = tf.nn.embedding_lookup(self.emb_table, self.m)\n",
    "        \n",
    "        # Normalize power per symbol to 1\n",
    "        self.en_moy =tf.sqrt(2 * tf.reduce_mean(tf.square(self.emb_table)))\n",
    "        self.x_norm = tf.divide(self.x, self.en_moy)\n",
    "        \n",
    "        #Real to complex\n",
    "        self.x_cplx = tf.complex(self.x_norm[:, :int(self.ch_uses)], self.x_norm[:, int(self.ch_uses):])\n",
    "            \n",
    "        return self.x_cplx"
   ]
  },
  {
   "cell_type": "code",
   "execution_count": 250,
   "metadata": {},
   "outputs": [],
   "source": [
    "class Channel(Layer):\n",
    "\n",
    "    def __init__(self, **kwargs):\n",
    "        super(Channel, self).__init__(**kwargs)\n",
    "\n",
    "    def call(self, x, noise_std):\n",
    "            \n",
    "        self.noise_r = tf.random.normal(shape = tf.shape(x), stddev = 1) * noise_std/tf.sqrt(2.)\n",
    "        self.noise_i = tf.random.normal(shape = tf.shape(x), stddev = 1) * noise_std/tf.sqrt(2.)\n",
    "        self.noise_cplx = tf.complex(self.noise_r, self.noise_i, name=\"noise\")\n",
    "        \n",
    "        self.y = x + self.noise_cplx\n",
    "            \n",
    "        return self.y"
   ]
  },
  {
   "cell_type": "code",
   "execution_count": 251,
   "metadata": {},
   "outputs": [],
   "source": [
    "class Receiver(Layer):\n",
    "\n",
    "    def __init__(self, K, **kwargs):\n",
    "        super(Receiver, self).__init__(**kwargs)\n",
    "        self.K = K\n",
    "        self.M = int(2**self.K)\n",
    "\n",
    "    def build(self, input_shape):\n",
    "        self.dense_0 = Dense(2*self.M, activation = tf.nn.relu)\n",
    "        self.dense_1 = Dense(self.M, activation = tf.nn.relu)\n",
    "        self.dense_2 = Dense(self.K, activation = None)\n",
    "\n",
    "    def call(self, y):\n",
    "        \n",
    "        # Complex to Real\n",
    "        self.y_real = tf.concat([tf.math.real(y), tf.math.imag(y)], axis=1)\n",
    "        \n",
    "        # Multiple Dense layers\n",
    "        self.d_0 = self.dense_0(self.y_real)\n",
    "        self.d_1 = self.dense_1(self.d_0)\n",
    "        self.llrs = self.dense_2(self.d_1)\n",
    "        \n",
    "        # Sigmoid : \\hat{p}(b_k = 1 | y)\n",
    "        self.p_b = tf.nn.sigmoid(self.llrs)\n",
    "    \n",
    "        return self.p_b"
   ]
  },
  {
   "cell_type": "markdown",
   "metadata": {},
   "source": [
    "# Define the model"
   ]
  },
  {
   "cell_type": "code",
   "execution_count": 252,
   "metadata": {},
   "outputs": [],
   "source": [
    "class Autoencoder(Model):\n",
    "\n",
    "    def __init__(self, K, ch_uses=1, **kwargs):\n",
    "        super(Autoencoder, self).__init__(**kwargs)\n",
    "        self.K = K\n",
    "        self.ch_uses = ch_uses\n",
    "\n",
    "    def build(self, input_shape):\n",
    "        self.tx = Transmitter(self.K, self.ch_uses)\n",
    "        self.ch = Channel()\n",
    "        self.rx = Receiver(self.K)\n",
    "    \n",
    "    def call(self, inputs):\n",
    "        \n",
    "        self.bits, self.snr = inputs\n",
    "        \n",
    "        self.noise_std = tf.sqrt( 2 / tf.pow(10., self.snr/10.0))\n",
    "        \n",
    "        self.x = self.tx(self.bits)\n",
    "        self.y = self.ch(self.x, self.noise_std)\n",
    "        self.p_b = self.rx(self.y)\n",
    "        \n",
    "        return self.p_b"
   ]
  },
  {
   "cell_type": "markdown",
   "metadata": {},
   "source": [
    "# Instantiate an  autoencoder"
   ]
  },
  {
   "cell_type": "code",
   "execution_count": 253,
   "metadata": {},
   "outputs": [],
   "source": [
    "# SNR at training\n",
    "training_snr = 15\n",
    "\n",
    "# Instantiate an autoencoder\n",
    "autoencoder = Autoencoder(K, ch_uses)\n",
    "\n",
    "#Initialize optimizer\n",
    "optimizer = tf.keras.optimizers.Adam()"
   ]
  },
  {
   "cell_type": "markdown",
   "metadata": {},
   "source": [
    "## Generate bits"
   ]
  },
  {
   "cell_type": "code",
   "execution_count": 254,
   "metadata": {},
   "outputs": [],
   "source": [
    "def generate_ds_bits(epoch_len, batch_size, K, training_snr):\n",
    "    'Generate a dataset for training'\n",
    "    rand_bits = tf.random.uniform(shape=[epoch_len, batch_size, K], minval=0, maxval=2, dtype=tf.int32)\n",
    "    bits_ds = tf.data.Dataset.from_tensor_slices(rand_bits)\n",
    "    snr_ds = tf.data.Dataset.from_tensor_slices(training_snr*tf.ones(shape=[epoch_len, batch_size, 1]))\n",
    "    \n",
    "    features_ds = tf.data.Dataset.zip((bits_ds, snr_ds))\n",
    "    labels_ds = tf.data.Dataset.from_tensor_slices(rand_bits)\n",
    "    return (features_ds, labels_ds)"
   ]
  },
  {
   "cell_type": "markdown",
   "metadata": {},
   "source": [
    "## What about the loss function?\n",
    "\n",
    "The loss function is the **binary cross-entropy**:\n",
    "\n",
    "$$\n",
    "\\begin{align*}\n",
    "L(\\theta_T, \\theta_R) &= \\sum_{k=1}^{K} \\mathbb{E}_{b_{k}, y}[ - \\log(\\hat{p_{\\theta_R}}(b_k | y)) ], y \\thicksim p(y|x)\\\\\n",
    "&= H(B) - R + \\sum_{k=1}^{K} \\mathbb{E}_{y} [ D_{KL} (p_{\\theta_R}(b_k|y) || \\hat{p_{\\theta_R}}(b_k|y)) ]\\\\\n",
    "\\end{align*}\n",
    "$$\n",
    "\n",
    "- $H(B)$ is the entropy  of the source\n",
    "\n",
    "- $R$ is the *rate* as defined earlier\n",
    "\n",
    "- $D_{KL} (p_{\\theta_R}(b_k|y) || \\hat{p_{\\theta_R}}(b_k|y))$ is the KL-Divergence between the true and the predicted distributions\n",
    "\n",
    "Hence, minimizing the binary cross-entropy loss both maximize $R$ and minimize the KL-divergence between the true and the predicted distribution"
   ]
  },
  {
   "cell_type": "code",
   "execution_count": 255,
   "metadata": {},
   "outputs": [],
   "source": [
    "loss_func = keras.losses.binary_crossentropy"
   ]
  },
  {
   "cell_type": "markdown",
   "metadata": {},
   "source": [
    "## Train"
   ]
  },
  {
   "cell_type": "markdown",
   "metadata": {},
   "source": [
    "You can run the cell below multiple time to train more"
   ]
  },
  {
   "cell_type": "code",
   "execution_count": 256,
   "metadata": {},
   "outputs": [
    {
     "name": "stdout",
     "output_type": "stream",
     "text": [
      "BER after each epoch:\n",
      "0.218425, 0.159275, 0.11765, 0.0969, 0.063825, 0.050625, 0.042875, 0.03655, 0.0348, 0.035425, \n",
      "\n",
      "Execution time : 18.095378637313843 seconds\n"
     ]
    }
   ],
   "source": [
    "batch_size = 10000\n",
    "epoch_size = 100\n",
    "nb_epoch = 10\n",
    "\n",
    "print('BER after each epoch:')\n",
    "\n",
    "start_time = time.time()\n",
    "for epoch in range(nb_epoch):\n",
    "    \n",
    "    # Create a dataset for each epoch\n",
    "    dataset = tf.data.Dataset.zip(generate_ds_bits(epoch_size, batch_size, K, training_snr))\n",
    "\n",
    "    # Iterate over the batches of the dataset.\n",
    "    for step, (features, labels) in enumerate(dataset):\n",
    "        # Open a GradientTape.\n",
    "        with tf.GradientTape() as tape:\n",
    "\n",
    "            # Forward pass.\n",
    "            p_b = autoencoder(features)\n",
    "\n",
    "            # Loss value for this batch.\n",
    "            loss_value =  loss_func(labels, p_b)\n",
    "\n",
    "        # Get gradients of loss wrt the weights.\n",
    "        gradients = tape.gradient(loss_value, autoencoder.trainable_weights)\n",
    "\n",
    "        # Update the weights of our linear layer.\n",
    "        optimizer.apply_gradients(zip(gradients, autoencoder.trainable_weights))\n",
    "\n",
    "    b_hat = tf.cast(tf.sign(p_b-0.5)/2+1, dtype=tf.int32)\n",
    "    ber = tf.reduce_sum(tf.abs(b_hat - labels))/(batch_size*K)\n",
    "    print(ber.numpy(), end=', ')\n",
    "\n",
    "print(\"\\n\\nExecution time : %s seconds\" % (time.time() - start_time))"
   ]
  },
  {
   "cell_type": "markdown",
   "metadata": {},
   "source": [
    "# Evaluate the model"
   ]
  },
  {
   "cell_type": "code",
   "execution_count": 257,
   "metadata": {},
   "outputs": [
    {
     "name": "stdout",
     "output_type": "stream",
     "text": [
      "-5, -4, -3, -2, -1, 0, 1, 2, 3, 4, 5, 6, 7, 8, 9, 10, 11, 12, 13, 14, 15, 16, 17, 18, 19, 20, 21, 22, 23, 24, 25, "
     ]
    }
   ],
   "source": [
    "snr_range = np.arange(-5, 26)\n",
    "results=[]\n",
    "bs_eval = 100000\n",
    "\n",
    "for eval_snr in snr_range:\n",
    "    batch_bits = tf.random.uniform(shape=[bs_eval, K], minval=0, maxval=2, dtype=tf.int32)\n",
    "    batch_snr = eval_snr*tf.ones(shape=[bs_eval, 1])\n",
    "    \n",
    "    p_b = autoencoder([batch_bits, batch_snr])\n",
    "    b_hat = tf.cast(tf.sign(p_b-0.5)/2+1, dtype=tf.int32)\n",
    "    ber = tf.reduce_sum(tf.abs(b_hat - batch_bits))/(bs_eval*K)\n",
    "    results.append(ber.numpy())\n",
    "    print(eval_snr, end=', ')"
   ]
  },
  {
   "cell_type": "code",
   "execution_count": 258,
   "metadata": {},
   "outputs": [
    {
     "data": {
      "image/png": "[encoded data removed]",
      "text/plain": [
       "<Figure size 576x360 with 1 Axes>"
      ]
     },
     "metadata": {
      "needs_background": "light"
     },
     "output_type": "display_data"
    }
   ],
   "source": [
    "plt.figure(figsize=(8, 5))\n",
    "plt.semilogy(snr_range, results)\n",
    "plt.xlabel('SNR(dB)')\n",
    "plt.ylabel('BER');\n",
    "plt.grid(which='major', alpha=0.5)\n",
    "plt.grid(which='minor', alpha=0.25)"
   ]
  },
  {
   "cell_type": "markdown",
   "metadata": {},
   "source": [
    "# See learned constellation"
   ]
  },
  {
   "cell_type": "code",
   "execution_count": 261,
   "metadata": {},
   "outputs": [],
   "source": [
    "# Form a batch containing every bit vector\n",
    "bin_vec = tf.constant([[0], [1]])\n",
    "block = bit_vec = bin_vec\n",
    "for i in range(1, K):\n",
    "    C1 = tf.reshape(tf.tile(bin_vec, [1, tf.pow(2, i)]), [-1, 1])\n",
    "    C2 = tf.tile(block, [2, 1])\n",
    "    bit_vec = tf.concat([C1, C2], axis=1)\n",
    "    block = bit_vec\n",
    "    \n",
    "batch_snr = training_snr*tf.ones(shape=[tf.shape(bit_vec)[0], 1])\n",
    "\n",
    "p_b = autoencoder([bit_vec, batch_snr])"
   ]
  },
  {
   "cell_type": "code",
   "execution_count": 292,
   "metadata": {
    "scrolled": false
   },
   "outputs": [
    {
     "data": {
      "image/png": "[encoded data removed]",
      "text/plain": [
       "<Figure size 432x432 with 1 Axes>"
      ]
     },
     "metadata": {
      "needs_background": "light"
     },
     "output_type": "display_data"
    }
   ],
   "source": [
    "bit_vec_np = bit_vec.numpy()\n",
    "x_np = autoencoder.x.numpy()\n",
    "plt.figure(figsize=(6,6))\n",
    "plt.scatter(np.real(x_np), np.imag(x_np))\n",
    "for i in range(np.shape(x_np)[0]) :\n",
    "    plt.text(np.real(x_np[i]), np.imag(x_np[i]), str(bit_vec_np[i])[1:-1], fontsize=14)"
   ]
  }
 ],
 "metadata": {
  "kernelspec": {
   "display_name": "Python 3",
   "language": "python",
   "name": "python3"
  },
  "language_info": {
   "codemirror_mode": {
    "name": "ipython",
    "version": 3
   },
   "file_extension": ".py",
   "mimetype": "text/x-python",
   "name": "python",
   "nbconvert_exporter": "python",
   "pygments_lexer": "ipython3",
   "version": "3.6.8"
  }
 },
 "nbformat": 4,
 "nbformat_minor": 4
}
