{
 "cells": [
  {
   "cell_type": "markdown",
   "metadata": {},
   "source": [
    "# The Physical Layer as an Autoencoder\n"
   ]
  },
  {
   "cell_type": "markdown",
   "metadata": {},
   "source": [
    "**First : change the runtime and hardware acceleration**\n",
    "\n",
    "Runtime $\\rightarrow$ Change runtime type\n",
    "\n",
    "- Runtime type : Python 3\n",
    "- Hardware accelerator : GPU"
   ]
  },
  {
   "cell_type": "markdown",
   "metadata": {},
   "source": [
    "An autoencoder is a type of artificial neural network used to find a useful representation of some data $\\mathbf{s}$ at an intermediate layer $\\mathbf{x}$ through learning to reproduce the input at the output.\n",
    "\n",
    "![autoencoder_0](https://github.com/mgoutay/autoencodeur/blob/master/Images/autoencoder_0.png?raw=true)\n",
    "\n"
   ]
  },
  {
   "cell_type": "markdown",
   "metadata": {},
   "source": [
    "# Initialisation"
   ]
  },
  {
   "cell_type": "code",
   "execution_count": 1,
   "metadata": {},
   "outputs": [],
   "source": [
    "# Install TensorFlow 2.0 on Google Collab if needed\n",
    "try:\n",
    "  # %tensorflow_version only exists in Colab.\n",
    "  %tensorflow_version 2.x\n",
    "except Exception:\n",
    "    pass"
   ]
  },
  {
   "cell_type": "code",
   "execution_count": 2,
   "metadata": {},
   "outputs": [
    {
     "name": "stdout",
     "output_type": "stream",
     "text": [
      "Tensorflow version:  2.0.0\n",
      "Number of GPUs available : 4\n",
      "Only GPU number 0 used\n"
     ]
    }
   ],
   "source": [
    "#Set the GPU you want to use\n",
    "num_GPU = 0\n",
    "\n",
    "import tensorflow as tf\n",
    "print('Tensorflow version: ', tf.__version__)\n",
    "\n",
    "gpus = tf.config.experimental.list_physical_devices(\"GPU\")\n",
    "print('Number of GPUs available :', len(gpus))\n",
    "\n",
    "if num_GPU < len(gpus):\n",
    "    tf.config.experimental.set_visible_devices(gpus[num_GPU], 'GPU')\n",
    "    tf.config.experimental.set_memory_growth(gpus[num_GPU], True)\n",
    "    print('Only GPU number', num_GPU, 'used')"
   ]
  },
  {
   "cell_type": "code",
   "execution_count": 3,
   "metadata": {},
   "outputs": [],
   "source": [
    "import os\n",
    "import copy\n",
    "import sys\n",
    "import time\n",
    "from datetime import datetime\n",
    "\n",
    "import numpy as np\n",
    "import matplotlib\n",
    "import matplotlib.pyplot as plt  \n",
    "\n",
    "from tensorflow import keras\n",
    "from tensorflow.keras import backend as K\n",
    "from tensorflow.keras import Model\n",
    "from tensorflow.keras.layers import Layer, Dense, Lambda\n",
    "from tensorflow.keras.regularizers import Regularizer"
   ]
  },
  {
   "cell_type": "markdown",
   "metadata": {},
   "source": [
    "# Communicating messages"
   ]
  },
  {
   "cell_type": "markdown",
   "metadata": {},
   "source": [
    "**An autoencoder-based communication systems aims to implement the transmitter, channel, and receiver as a single NN which reconstructs its input at its output**\n",
    "\n",
    "The goal is to learn a modulation wich will be robust with respect to the perturbations introduced by the channel.\n",
    "\n",
    "The channel is implemented as a \"Noise Layer\" without any learnable parameters, wich must be differentiable in order to perform SGD on the transmitter's parameters.\n",
    "\n",
    "Examples:\n",
    "\n",
    "- AWGN channel : $\\mathbf{y} = \\mathbf{x} + \\mathbf{w}$\n",
    "\n",
    "- Memoryless fading channel : $\\mathbf{y} = h \\mathbf{x} + \\mathbf{n} $\n",
    "- ..."
   ]
  },
  {
   "cell_type": "markdown",
   "metadata": {},
   "source": [
    "![autoencoder](https://github.com/mgoutay/autoencodeur/blob/master/Images/autoencoder.png?raw=true)"
   ]
  },
  {
   "cell_type": "markdown",
   "metadata": {},
   "source": [
    "First, let's transmit messages.\n",
    "\n",
    "The first hyper-parameters to set are the total number of messages $M$ and the number of channel uses $N_c$\n",
    "\n",
    "It can be seen that $M$ can also be seen as the modulation order. Indeed, sending one out of $M$ message is equivalent to sending $\\log_2(M)$ bits."
   ]
  },
  {
   "cell_type": "markdown",
   "metadata": {},
   "source": [
    "We will implement the fowllowing network:\n",
    "![model_0](https://github.com/mgoutay/autoencodeur/blob/master/Images/model_0.png?raw=true)"
   ]
  },
  {
   "cell_type": "code",
   "execution_count": 70,
   "metadata": {},
   "outputs": [],
   "source": [
    "# Number of messages\n",
    "M = 16\n",
    "\n",
    "# Number of channel uses\n",
    "ch_uses = 1"
   ]
  },
  {
   "cell_type": "markdown",
   "metadata": {},
   "source": [
    "## Define the layers"
   ]
  },
  {
   "cell_type": "code",
   "execution_count": 108,
   "metadata": {},
   "outputs": [],
   "source": [
    "class Transmitter(Layer):\n",
    "\n",
    "    def __init__(self, M, ch_uses=1, **kwargs):\n",
    "        super(Transmitter, self).__init__(**kwargs)\n",
    "        self.M = M\n",
    "        self.ch_uses = ch_uses\n",
    "\n",
    "    def build(self, input_shape):\n",
    "        self.emb_table = self.add_weight(shape=[self.M, 2*self.ch_uses], \n",
    "                                          initializer='random_normal',\n",
    "                                          trainable=True)\n",
    "\n",
    "    def call(self, messages):\n",
    "        #Embedding\n",
    "        self.x = tf.nn.embedding_lookup(self.emb_table, messages)\n",
    "        \n",
    "        # Normalize power per symbol to 1\n",
    "        self.en_moy =tf.sqrt(2 * tf.reduce_mean(tf.square(self.emb_table)))\n",
    "        self.x_norm = tf.divide(self.x, self.en_moy)\n",
    "        \n",
    "        #Real to complex\n",
    "        self.x_cplx = tf.complex(self.x_norm[:, :int(self.ch_uses)], self.x_norm[:, int(self.ch_uses):])\n",
    "            \n",
    "        return self.x_cplx"
   ]
  },
  {
   "cell_type": "code",
   "execution_count": 109,
   "metadata": {},
   "outputs": [],
   "source": [
    "class Channel(Layer):\n",
    "\n",
    "    def __init__(self, **kwargs):\n",
    "        super(Channel, self).__init__(**kwargs)\n",
    "\n",
    "    def call(self, x, noise_stddev):\n",
    "            \n",
    "        self.noise_r = tf.random.normal(shape = tf.shape(x), stddev = 1) * noise_stddev/tf.sqrt(2.)\n",
    "        self.noise_i = tf.random.normal(shape = tf.shape(x), stddev = 1) * noise_stddev/tf.sqrt(2.)\n",
    "        self.noise_cplx = tf.complex(self.noise_r, self.noise_i, name=\"noise\")\n",
    "        \n",
    "        self.y = x + self.noise_cplx\n",
    "            \n",
    "        return self.y"
   ]
  },
  {
   "cell_type": "code",
   "execution_count": 110,
   "metadata": {},
   "outputs": [],
   "source": [
    "class Receiver(Layer):\n",
    "\n",
    "    def __init__(self, M, **kwargs):\n",
    "        super(Receiver, self).__init__(**kwargs)\n",
    "        self.M = M\n",
    "\n",
    "    def build(self, input_shape):\n",
    "        self.dense_0 = Dense(4*self.M, activation = tf.nn.relu)\n",
    "        self.dense_1 = Dense(2*self.M, activation = tf.nn.relu)\n",
    "        self.dense_2 = Dense(self.M, activation = None)\n",
    "\n",
    "    def call(self, y):\n",
    "        # Complex to Real\n",
    "        self.y_real = tf.concat([tf.math.real(y), tf.math.imag(y)], axis=1)\n",
    "        \n",
    "        #Dense layers\n",
    "        self.d_0 = self.dense_0(self.y_real)\n",
    "        self.d_1 = self.dense_1(self.d_0)\n",
    "        self.d_2 = self.dense_2(self.d_1)\n",
    "        \n",
    "        #Softmax\n",
    "        self.p_s = tf.nn.softmax(self.d_2)\n",
    "        \n",
    "        return self.p_s"
   ]
  },
  {
   "cell_type": "markdown",
   "metadata": {},
   "source": [
    "## Define the model"
   ]
  },
  {
   "cell_type": "code",
   "execution_count": 111,
   "metadata": {},
   "outputs": [],
   "source": [
    "class Autoencoder(Model):\n",
    "\n",
    "    def __init__(self, M, ch_uses=1, **kwargs):\n",
    "        super(Autoencoder, self).__init__(**kwargs)\n",
    "        self.M = M\n",
    "        self.ch_uses = ch_uses\n",
    "\n",
    "    def build(self, input_shape):\n",
    "        self.tx = Transmitter(self.M, self.ch_uses)\n",
    "        self.ch = Channel()\n",
    "        self.rx = Receiver(self.M)\n",
    "    \n",
    "    def call(self, inputs):\n",
    "        \n",
    "        self.messages, self.snr = inputs\n",
    "        self.noise_stddev = tf.sqrt( 2 / tf.pow(10., self.snr/10.0))\n",
    "        \n",
    "        self.x = self.tx(self.messages)\n",
    "        self.y = self.ch(self.x, self.noise_stddev)\n",
    "        self.p_s = self.rx(self.y)\n",
    "        \n",
    "        return self.p_s"
   ]
  },
  {
   "cell_type": "markdown",
   "metadata": {},
   "source": [
    "## Instantiate the autoencoder"
   ]
  },
  {
   "cell_type": "code",
   "execution_count": 117,
   "metadata": {},
   "outputs": [],
   "source": [
    "# SNR at training\n",
    "training_snr = 15\n",
    "\n",
    "# Instantiate an autoencoder\n",
    "autoencoder = Autoencoder(M, ch_uses)\n",
    "\n",
    "#Initialize optimizer\n",
    "optimizer = tf.keras.optimizers.Adam()"
   ]
  },
  {
   "cell_type": "markdown",
   "metadata": {},
   "source": [
    "## Generate messages"
   ]
  },
  {
   "cell_type": "code",
   "execution_count": 118,
   "metadata": {},
   "outputs": [],
   "source": [
    "def generate_ds_msgs(epoch_len, batch_size, M, training_snr):\n",
    "    'Generate epoch_len batches of messages'\n",
    "    \n",
    "    rand_msg = tf.random.uniform(shape=[epoch_len, batch_size], minval=0, maxval=M, dtype=tf.int32)\n",
    "    msg_ds = tf.data.Dataset.from_tensor_slices(rand_msg)\n",
    "    snr_ds = tf.data.Dataset.from_tensor_slices(training_snr*tf.ones(shape=[epoch_len, batch_size, 1]))\n",
    "    \n",
    "    features_ds = tf.data.Dataset.zip((msg_ds, snr_ds))\n",
    "    labels_ds = msg_ds\n",
    "    return (features_ds, labels_ds)"
   ]
  },
  {
   "cell_type": "markdown",
   "metadata": {},
   "source": [
    "## What about the loss function?"
   ]
  },
  {
   "cell_type": "markdown",
   "metadata": {},
   "source": [
    "The loss function is the **sparse** (there is only one good class) **categorical cross-entropy**:\n",
    "\n",
    "$$\n",
    "\\begin{align*}\n",
    "L(\\theta_T, \\theta_R) &= \\mathbb{E}_{m, y} - \\log(\\hat{\\mathbf{p_{\\theta_R}}}(m | y)), y \\thicksim p(y|x)\\\\\n",
    "&= H(m) - I_{\\theta_T}(m; y) + \\mathbb{E}_{s, y} [ D_{KL} (\\mathbf{p_{\\theta_R}}(m|y) || \\hat{\\mathbf{p_{\\theta_R}}}(m|y)) ]\\\\\n",
    "\\end{align*}\n",
    "$$\n",
    "\n",
    "- $H(m)$ is the entropy  of the source\n",
    "\n",
    "- $I_{\\theta_T}(m; y) = I_{\\theta_T}(m; y)$ is the mutual information between the sent and the received symbols\n",
    "\n",
    "- $D_{KL} (\\mathbf{p_{\\theta_R}}(m|y) || \\hat{\\mathbf{p_{\\theta_R}}}(m|y))$ is the KL-Divergence between the true and the predicted distributions\n",
    "\n",
    "Hence, minimizing the sparse categorical cross-entropy loss both maximize the mutual information and minimize the KL-divergence between the true and the predicted distribution"
   ]
  },
  {
   "cell_type": "code",
   "execution_count": 125,
   "metadata": {},
   "outputs": [],
   "source": [
    "loss_func = tf.keras.losses.SparseCategoricalCrossentropy()"
   ]
  },
  {
   "cell_type": "markdown",
   "metadata": {},
   "source": [
    "## Train"
   ]
  },
  {
   "cell_type": "code",
   "execution_count": 126,
   "metadata": {},
   "outputs": [
    {
     "name": "stdout",
     "output_type": "stream",
     "text": [
      "SER after each epoch:\n",
      "0.101, 0.0967, 0.0908, 0.0943, 0.0981, 0.0947, 0.0902, 0.0927, 0.0942, 0.0881, \n",
      "\n",
      "Execution time : 17.324588775634766 seconds\n"
     ]
    }
   ],
   "source": [
    "batch_size = 10000\n",
    "epoch_size = 100\n",
    "nb_epoch = 10\n",
    "\n",
    "print('SER after each epoch:')\n",
    "\n",
    "start_time = time.time()\n",
    "for epoch in range(nb_epoch):\n",
    "    \n",
    "    # Create a dataset for each epoch\n",
    "    dataset = tf.data.Dataset.zip(generate_ds_bits(epoch_size, batch_size, M, training_snr))\n",
    "\n",
    "    # Iterate over the batches of the dataset.\n",
    "    for step, (features, labels) in enumerate(dataset):\n",
    "        # Open a GradientTape.\n",
    "        with tf.GradientTape() as tape:\n",
    "\n",
    "            # Forward pass.\n",
    "            p_s = autoencoder(features)\n",
    "\n",
    "            # Loss value for this batch.\n",
    "            loss_value =  loss_func(y_true=labels, y_pred=p_s)\n",
    "\n",
    "        # Get gradients of loss wrt the weights.\n",
    "        gradients = tape.gradient(loss_value, autoencoder.trainable_weights)\n",
    "\n",
    "        # Update the weights of our linear layer.\n",
    "        optimizer.apply_gradients(zip(gradients, autoencoder.trainable_weights))\n",
    "    \n",
    "    #Take the argmax of the probability distribution as the estimated message\n",
    "    m_hat = tf.argmax(p_s, axis=1, output_type=tf.int32)\n",
    "    \n",
    "    ser = tf.reduce_sum(tf.clip_by_value(tf.abs(labels-m_hat), 0, 1))/(batch_size)\n",
    "    print(ser.numpy(), end=', ')\n",
    "\n",
    "print(\"\\n\\nExecution time : %s seconds\" % (time.time() - start_time))"
   ]
  },
  {
   "cell_type": "markdown",
   "metadata": {},
   "source": [
    "## See learned constellation"
   ]
  },
  {
   "cell_type": "code",
   "execution_count": 127,
   "metadata": {},
   "outputs": [],
   "source": [
    "x = autoencoder.x.numpy()"
   ]
  },
  {
   "cell_type": "code",
   "execution_count": 128,
   "metadata": {},
   "outputs": [
    {
     "data": {
      "text/plain": [
       "<matplotlib.collections.PathCollection at 0x7f86382d1dd8>"
      ]
     },
     "execution_count": 128,
     "metadata": {},
     "output_type": "execute_result"
    },
    {
     "data": {
      "image/png": "[encoded data removed]",
      "text/plain": [
       "<Figure size 432x432 with 1 Axes>"
      ]
     },
     "metadata": {
      "needs_background": "light"
     },
     "output_type": "display_data"
    }
   ],
   "source": [
    "plt.figure(figsize=(6,6))\n",
    "plt.scatter(np.real(x), np.imag(x))"
   ]
  },
  {
   "cell_type": "markdown",
   "metadata": {},
   "source": [
    "# Communicating bits"
   ]
  },
  {
   "cell_type": "markdown",
   "metadata": {},
   "source": [
    "# Define Layers"
   ]
  },
  {
   "cell_type": "code",
   "execution_count": 8,
   "metadata": {},
   "outputs": [],
   "source": [
    "# Number of bits per symbols\n",
    "K = 4\n",
    "M = np.power(2, K)\n",
    "\n",
    "# Number of channel uses\n",
    "ch_uses = 1"
   ]
  },
  {
   "cell_type": "code",
   "execution_count": 3,
   "metadata": {},
   "outputs": [],
   "source": [
    "class Encoder(Layer):\n",
    "\n",
    "    def __init__(self, K, ch_uses=1, **kwargs):\n",
    "        super(Encoder, self).__init__(**kwargs)\n",
    "        self.K = K\n",
    "        self.M = int(2**self.K)\n",
    "        self.ch_uses = ch_uses\n",
    "        self.bin_conv = tf.convert_to_tensor(np.flip([np.power(2, i) for i in range(self.K)]).astype(np.int32)) # (8, 4, 2, 1)\n",
    "\n",
    "    def build(self, input_shape):\n",
    "        self.emb_table = self.add_weight(shape=[self.M, 2*self.ch_uses], \n",
    "                                          initializer='random_normal',\n",
    "                                          trainable=True)\n",
    "\n",
    "    def call(self, bits):\n",
    "        self.bits_k = tf.reshape(bits, [-1, self.K])\n",
    "        self.s = tf.reduce_sum(self.bits_k*tf.expand_dims(self.bin_conv,axis= 0), axis=1)\n",
    "        self.x = tf.nn.embedding_lookup(self.emb_table, self.s)\n",
    "        \n",
    "        # Normalize power per symbol to 1\n",
    "        self.en_moy =tf.sqrt(2 * tf.reduce_mean(tf.square(self.emb_table)))\n",
    "        self.x_norm = tf.divide(self.x, self.en_moy)\n",
    "        #Real to complex\n",
    "        self.x_cplx = tf.complex(self.x_norm[:, :int(self.ch_uses)], self.x_norm[:, int(self.ch_uses):])\n",
    "            \n",
    "        return self.x_cplx"
   ]
  },
  {
   "cell_type": "code",
   "execution_count": 4,
   "metadata": {},
   "outputs": [],
   "source": [
    "class Channel(Layer):\n",
    "\n",
    "    def __init__(self, **kwargs):\n",
    "        super(Channel, self).__init__(**kwargs)\n",
    "\n",
    "    def call(self, x, noise_std):\n",
    "            \n",
    "        self.noise_r = tf.random.normal(shape = tf.shape(x), stddev = 1) * noise_std/tf.sqrt(2.)\n",
    "        self.noise_i = tf.random.normal(shape = tf.shape(x), stddev = 1) * noise_std/tf.sqrt(2.)\n",
    "        self.noise_cplx = tf.complex(self.noise_r, self.noise_i, name=\"noise\")\n",
    "        \n",
    "        self.y = x + self.noise_cplx\n",
    "            \n",
    "        return self.y"
   ]
  },
  {
   "cell_type": "code",
   "execution_count": 5,
   "metadata": {},
   "outputs": [],
   "source": [
    "class Decoder(Layer):\n",
    "\n",
    "    def __init__(self, K, **kwargs):\n",
    "        super(Decoder, self).__init__(**kwargs)\n",
    "        self.K = K\n",
    "        self.M = int(2**self.K)\n",
    "\n",
    "    def build(self, input_shape):\n",
    "        self.dense_0 = Dense(2*self.M, activation = tf.nn.relu)\n",
    "        self.dense_1 = Dense(self.M, activation = tf.nn.relu)\n",
    "        self.dense_2 = Dense(self.K, activation = None)\n",
    "\n",
    "    def call(self, y):\n",
    "        \n",
    "        self.y_real = tf.concat([tf.math.real(y), tf.math.imag(y)], axis=1)\n",
    "        self.d_0 = self.dense_0(self.y_real)\n",
    "        self.d_1 = self.dense_1(self.d_0)\n",
    "        self.d_2 = self.dense_2(self.d_1)\n",
    "        self.b_hat = tf.reshape(self.d_2, [-1])\n",
    "        \n",
    "        return self.b_hat"
   ]
  },
  {
   "cell_type": "markdown",
   "metadata": {},
   "source": [
    "# Define the model"
   ]
  },
  {
   "cell_type": "code",
   "execution_count": 39,
   "metadata": {},
   "outputs": [],
   "source": [
    "class Autoencoder(Model):\n",
    "\n",
    "    def __init__(self, K, ch_uses=1, **kwargs):\n",
    "        super(Autoencoder, self).__init__(**kwargs)\n",
    "        self.K = K\n",
    "        self.M = int(2**self.K)\n",
    "        self.ch_uses = ch_uses\n",
    "\n",
    "    def build(self, input_shape):\n",
    "        self.encoder = Encoder(self.K, self.ch_uses)\n",
    "        self.channel = Channel()\n",
    "        self.decoder = Decoder(self.K)\n",
    "    \n",
    "    def call(self, inputs):\n",
    "        \n",
    "        self.bits, self.snr = inputs\n",
    "        \n",
    "        self.noise_std = tf.sqrt( 2 / tf.pow(10., self.snr/10.0))\n",
    "        \n",
    "        self.x = self.encoder(self.bits)\n",
    "        self.y = self.channel(self.x, self.noise_std)\n",
    "        self.b_hat = self.decoder(self.y)\n",
    "        \n",
    "        return self.b_hat"
   ]
  },
  {
   "cell_type": "code",
   "execution_count": 40,
   "metadata": {},
   "outputs": [],
   "source": [
    "def generate_ds_bits(epoch_len, batch_size, M, training_snr):\n",
    "    'Generate epoch_len batches of messages'\n",
    "    \n",
    "    rand_msg = tf.random.uniform(shape=[epoch_len, batch_size], minval=0, maxval=M, dtype=tf.int32)\n",
    "    msg_ds = tf.data.Dataset.from_tensor_slices(rand_msg)\n",
    "    snr_ds = tf.data.Dataset.from_tensor_slices(training_snr*tf.ones(shape=[epoch_len, batch_size, 1]))\n",
    "    \n",
    "    features_ds = tf.data.Dataset.zip((msg_ds, snr_ds))\n",
    "    labels_ds = msg_ds\n",
    "    return (features_ds, labels_ds)"
   ]
  },
  {
   "cell_type": "markdown",
   "metadata": {},
   "source": [
    "# Instantiate an  autoencoder"
   ]
  },
  {
   "cell_type": "code",
   "execution_count": 41,
   "metadata": {},
   "outputs": [],
   "source": [
    "# SNR at training\n",
    "training_snr = 15\n",
    "\n",
    "# Instantiate an autoencoder\n",
    "autoencoder = Autoencoder(M, ch_uses)\n",
    "\n",
    "#Initialize optimizer\n",
    "optimizer = tf.keras.optimizers.Adam()"
   ]
  },
  {
   "cell_type": "markdown",
   "metadata": {},
   "source": [
    "## Train"
   ]
  },
  {
   "cell_type": "code",
   "execution_count": 43,
   "metadata": {},
   "outputs": [
    {
     "name": "stdout",
     "output_type": "stream",
     "text": [
      "BER after each epoch:\n"
     ]
    },
    {
     "ename": "NameError",
     "evalue": "name 'Encoder' is not defined",
     "output_type": "error",
     "traceback": [
      "\u001b[0;31m---------------------------------------------------------------------------\u001b[0m",
      "\u001b[0;31mNameError\u001b[0m                                 Traceback (most recent call last)",
      "\u001b[0;32m<ipython-input-43-a820f9624923>\u001b[0m in \u001b[0;36m<module>\u001b[0;34m\u001b[0m\n\u001b[1;32m     17\u001b[0m \u001b[0;34m\u001b[0m\u001b[0m\n\u001b[1;32m     18\u001b[0m             \u001b[0;31m# Forward pass.\u001b[0m\u001b[0;34m\u001b[0m\u001b[0;34m\u001b[0m\u001b[0;34m\u001b[0m\u001b[0m\n\u001b[0;32m---> 19\u001b[0;31m             \u001b[0mp_s\u001b[0m \u001b[0;34m=\u001b[0m \u001b[0mautoencoder\u001b[0m\u001b[0;34m(\u001b[0m\u001b[0mfeatures\u001b[0m\u001b[0;34m)\u001b[0m\u001b[0;34m\u001b[0m\u001b[0;34m\u001b[0m\u001b[0m\n\u001b[0m\u001b[1;32m     20\u001b[0m \u001b[0;34m\u001b[0m\u001b[0m\n\u001b[1;32m     21\u001b[0m             \u001b[0;31m# Loss value for this batch.\u001b[0m\u001b[0;34m\u001b[0m\u001b[0;34m\u001b[0m\u001b[0;34m\u001b[0m\u001b[0m\n",
      "\u001b[0;32m/usr/local/lib/python3.6/dist-packages/tensorflow_core/python/keras/engine/base_layer.py\u001b[0m in \u001b[0;36m__call__\u001b[0;34m(self, inputs, *args, **kwargs)\u001b[0m\n\u001b[1;32m    885\u001b[0m         \u001b[0;31m# Eager execution on data tensors.\u001b[0m\u001b[0;34m\u001b[0m\u001b[0;34m\u001b[0m\u001b[0;34m\u001b[0m\u001b[0m\n\u001b[1;32m    886\u001b[0m         \u001b[0;32mwith\u001b[0m \u001b[0mbackend\u001b[0m\u001b[0;34m.\u001b[0m\u001b[0mname_scope\u001b[0m\u001b[0;34m(\u001b[0m\u001b[0mself\u001b[0m\u001b[0;34m.\u001b[0m\u001b[0m_name_scope\u001b[0m\u001b[0;34m(\u001b[0m\u001b[0;34m)\u001b[0m\u001b[0;34m)\u001b[0m\u001b[0;34m:\u001b[0m\u001b[0;34m\u001b[0m\u001b[0;34m\u001b[0m\u001b[0m\n\u001b[0;32m--> 887\u001b[0;31m           \u001b[0mself\u001b[0m\u001b[0;34m.\u001b[0m\u001b[0m_maybe_build\u001b[0m\u001b[0;34m(\u001b[0m\u001b[0minputs\u001b[0m\u001b[0;34m)\u001b[0m\u001b[0;34m\u001b[0m\u001b[0;34m\u001b[0m\u001b[0m\n\u001b[0m\u001b[1;32m    888\u001b[0m           \u001b[0mcast_inputs\u001b[0m \u001b[0;34m=\u001b[0m \u001b[0mself\u001b[0m\u001b[0;34m.\u001b[0m\u001b[0m_maybe_cast_inputs\u001b[0m\u001b[0;34m(\u001b[0m\u001b[0minputs\u001b[0m\u001b[0;34m)\u001b[0m\u001b[0;34m\u001b[0m\u001b[0;34m\u001b[0m\u001b[0m\n\u001b[1;32m    889\u001b[0m           with base_layer_utils.autocast_context_manager(\n",
      "\u001b[0;32m/usr/local/lib/python3.6/dist-packages/tensorflow_core/python/keras/engine/base_layer.py\u001b[0m in \u001b[0;36m_maybe_build\u001b[0;34m(self, inputs)\u001b[0m\n\u001b[1;32m   2139\u001b[0m         \u001b[0;31m# operations.\u001b[0m\u001b[0;34m\u001b[0m\u001b[0;34m\u001b[0m\u001b[0;34m\u001b[0m\u001b[0m\n\u001b[1;32m   2140\u001b[0m         \u001b[0;32mwith\u001b[0m \u001b[0mtf_utils\u001b[0m\u001b[0;34m.\u001b[0m\u001b[0mmaybe_init_scope\u001b[0m\u001b[0;34m(\u001b[0m\u001b[0mself\u001b[0m\u001b[0;34m)\u001b[0m\u001b[0;34m:\u001b[0m\u001b[0;34m\u001b[0m\u001b[0;34m\u001b[0m\u001b[0m\n\u001b[0;32m-> 2141\u001b[0;31m           \u001b[0mself\u001b[0m\u001b[0;34m.\u001b[0m\u001b[0mbuild\u001b[0m\u001b[0;34m(\u001b[0m\u001b[0minput_shapes\u001b[0m\u001b[0;34m)\u001b[0m\u001b[0;34m\u001b[0m\u001b[0;34m\u001b[0m\u001b[0m\n\u001b[0m\u001b[1;32m   2142\u001b[0m       \u001b[0;31m# We must set self.built since user defined build functions are not\u001b[0m\u001b[0;34m\u001b[0m\u001b[0;34m\u001b[0m\u001b[0;34m\u001b[0m\u001b[0m\n\u001b[1;32m   2143\u001b[0m       \u001b[0;31m# constrained to set self.built.\u001b[0m\u001b[0;34m\u001b[0m\u001b[0;34m\u001b[0m\u001b[0;34m\u001b[0m\u001b[0m\n",
      "\u001b[0;32m<ipython-input-39-ee20f9b63592>\u001b[0m in \u001b[0;36mbuild\u001b[0;34m(self, input_shape)\u001b[0m\n\u001b[1;32m      8\u001b[0m \u001b[0;34m\u001b[0m\u001b[0m\n\u001b[1;32m      9\u001b[0m     \u001b[0;32mdef\u001b[0m \u001b[0mbuild\u001b[0m\u001b[0;34m(\u001b[0m\u001b[0mself\u001b[0m\u001b[0;34m,\u001b[0m \u001b[0minput_shape\u001b[0m\u001b[0;34m)\u001b[0m\u001b[0;34m:\u001b[0m\u001b[0;34m\u001b[0m\u001b[0;34m\u001b[0m\u001b[0m\n\u001b[0;32m---> 10\u001b[0;31m         \u001b[0mself\u001b[0m\u001b[0;34m.\u001b[0m\u001b[0mtx\u001b[0m \u001b[0;34m=\u001b[0m \u001b[0mTransmitter\u001b[0m\u001b[0;34m(\u001b[0m\u001b[0mself\u001b[0m\u001b[0;34m.\u001b[0m\u001b[0mK\u001b[0m\u001b[0;34m,\u001b[0m \u001b[0mself\u001b[0m\u001b[0;34m.\u001b[0m\u001b[0mch_uses\u001b[0m\u001b[0;34m)\u001b[0m\u001b[0;34m\u001b[0m\u001b[0;34m\u001b[0m\u001b[0m\n\u001b[0m\u001b[1;32m     11\u001b[0m         \u001b[0mself\u001b[0m\u001b[0;34m.\u001b[0m\u001b[0mch\u001b[0m \u001b[0;34m=\u001b[0m \u001b[0mChannel\u001b[0m\u001b[0;34m(\u001b[0m\u001b[0;34m)\u001b[0m\u001b[0;34m\u001b[0m\u001b[0;34m\u001b[0m\u001b[0m\n\u001b[1;32m     12\u001b[0m         \u001b[0mself\u001b[0m\u001b[0;34m.\u001b[0m\u001b[0mrx\u001b[0m \u001b[0;34m=\u001b[0m \u001b[0mReceiver\u001b[0m\u001b[0;34m(\u001b[0m\u001b[0mself\u001b[0m\u001b[0;34m.\u001b[0m\u001b[0mK\u001b[0m\u001b[0;34m)\u001b[0m\u001b[0;34m\u001b[0m\u001b[0;34m\u001b[0m\u001b[0m\n",
      "\u001b[0;32m<ipython-input-14-2730800d8549>\u001b[0m in \u001b[0;36m__init__\u001b[0;34m(self, M, ch_uses, **kwargs)\u001b[0m\n\u001b[1;32m      2\u001b[0m \u001b[0;34m\u001b[0m\u001b[0m\n\u001b[1;32m      3\u001b[0m     \u001b[0;32mdef\u001b[0m \u001b[0m__init__\u001b[0m\u001b[0;34m(\u001b[0m\u001b[0mself\u001b[0m\u001b[0;34m,\u001b[0m \u001b[0mM\u001b[0m\u001b[0;34m,\u001b[0m \u001b[0mch_uses\u001b[0m\u001b[0;34m=\u001b[0m\u001b[0;36m1\u001b[0m\u001b[0;34m,\u001b[0m \u001b[0;34m**\u001b[0m\u001b[0mkwargs\u001b[0m\u001b[0;34m)\u001b[0m\u001b[0;34m:\u001b[0m\u001b[0;34m\u001b[0m\u001b[0;34m\u001b[0m\u001b[0m\n\u001b[0;32m----> 4\u001b[0;31m         \u001b[0msuper\u001b[0m\u001b[0;34m(\u001b[0m\u001b[0mEncoder\u001b[0m\u001b[0;34m,\u001b[0m \u001b[0mself\u001b[0m\u001b[0;34m)\u001b[0m\u001b[0;34m.\u001b[0m\u001b[0m__init__\u001b[0m\u001b[0;34m(\u001b[0m\u001b[0;34m**\u001b[0m\u001b[0mkwargs\u001b[0m\u001b[0;34m)\u001b[0m\u001b[0;34m\u001b[0m\u001b[0;34m\u001b[0m\u001b[0m\n\u001b[0m\u001b[1;32m      5\u001b[0m         \u001b[0mself\u001b[0m\u001b[0;34m.\u001b[0m\u001b[0mM\u001b[0m \u001b[0;34m=\u001b[0m \u001b[0mM\u001b[0m\u001b[0;34m\u001b[0m\u001b[0;34m\u001b[0m\u001b[0m\n\u001b[1;32m      6\u001b[0m         \u001b[0mself\u001b[0m\u001b[0;34m.\u001b[0m\u001b[0mch_uses\u001b[0m \u001b[0;34m=\u001b[0m \u001b[0mch_uses\u001b[0m\u001b[0;34m\u001b[0m\u001b[0;34m\u001b[0m\u001b[0m\n",
      "\u001b[0;31mNameError\u001b[0m: name 'Encoder' is not defined"
     ]
    }
   ],
   "source": []
  },
  {
   "cell_type": "code",
   "execution_count": null,
   "metadata": {},
   "outputs": [],
   "source": []
  },
  {
   "cell_type": "code",
   "execution_count": null,
   "metadata": {},
   "outputs": [],
   "source": []
  },
  {
   "cell_type": "markdown",
   "metadata": {},
   "source": [
    "# Train"
   ]
  },
  {
   "cell_type": "code",
   "execution_count": 9,
   "metadata": {},
   "outputs": [
    {
     "name": "stdout",
     "output_type": "stream",
     "text": [
      "BER after each epoch:\n",
      "0.20965, 0.1574, 0.115525, 0.091375, 0.06895, 0.053125, 0.04455, 0.040375, 0.039375, 0.035125, \n",
      "\n",
      "Execution time : 19.777037143707275 seconds\n"
     ]
    }
   ],
   "source": [
    "batch_size = 10000\n",
    "epoch_size = 100\n",
    "nb_epoch = 10\n",
    "\n",
    "print('BER after each epoch:')\n",
    "\n",
    "start_time = time.time()\n",
    "for epoch in range(nb_epoch):\n",
    "    \n",
    "    # Create a dataset for each epoch\n",
    "    dataset = tf.data.Dataset.zip(generate_ds_bits(epoch_size, batch_size, K, snr))\n",
    "\n",
    "    # Iterate over the batches of the dataset.\n",
    "    for step, (features, labels) in enumerate(dataset):\n",
    "        # Open a GradientTape.\n",
    "        with tf.GradientTape() as tape:\n",
    "\n",
    "            # Forward pass.\n",
    "            b_hat_log = autoencoder(features)\n",
    "\n",
    "            # Loss value for this batch.\n",
    "            loss_value =  loss_func(labels, b_hat_log, from_logits=True)\n",
    "\n",
    "        # Get gradients of loss wrt the weights.\n",
    "        gradients = tape.gradient(loss_value, autoencoder.trainable_weights)\n",
    "\n",
    "        # Update the weights of our linear layer.\n",
    "        optimizer.apply_gradients(zip(gradients, autoencoder.trainable_weights))\n",
    "\n",
    "    b_hat = tf.cast(tf.sign(b_hat_log)/2+1, dtype=tf.int32)\n",
    "    ber = tf.reduce_sum(tf.abs(b_hat - labels))/(batch_size*K)\n",
    "    print(ber.numpy(), end=', ')\n",
    "\n",
    "print(\"\\n\\nExecution time : %s seconds\" % (time.time() - start_time))"
   ]
  },
  {
   "cell_type": "markdown",
   "metadata": {},
   "source": [
    "# See learned constellation"
   ]
  },
  {
   "cell_type": "markdown",
   "metadata": {},
   "source": [
    "You can now directly see what's inside each class :"
   ]
  },
  {
   "cell_type": "code",
   "execution_count": 35,
   "metadata": {},
   "outputs": [
    {
     "name": "stdout",
     "output_type": "stream",
     "text": [
      "[[-0.7658981 -0.04487091j]\n",
      " [-0.26066825+0.7347326j ]\n",
      " [ 1.250048  -0.14272638j]\n",
      " ...\n",
      " [ 0.05869472+1.1574969j ]\n",
      " [-0.25172818-0.11254451j]\n",
      " [ 0.6742501 +0.2404414j ]]\n"
     ]
    }
   ],
   "source": [
    "x = autoencoder.x.numpy()\n",
    "print(x)"
   ]
  },
  {
   "cell_type": "code",
   "execution_count": 105,
   "metadata": {},
   "outputs": [
    {
     "data": {
      "text/plain": [
       "<matplotlib.collections.PathCollection at 0x7f86383a3048>"
      ]
     },
     "execution_count": 105,
     "metadata": {},
     "output_type": "execute_result"
    },
    {
     "data": {
      "image/png": "[encoded data removed]",
      "text/plain": [
       "<Figure size 432x432 with 1 Axes>"
      ]
     },
     "metadata": {
      "needs_background": "light"
     },
     "output_type": "display_data"
    }
   ],
   "source": [
    "plt.figure(figsize=(6,6))\n",
    "plt.scatter(np.real(x), np.imag(x))"
   ]
  },
  {
   "cell_type": "code",
   "execution_count": 8,
   "metadata": {},
   "outputs": [],
   "source": [
    "def generate_ds_bits(epoch_len, batch_size, K, snr):\n",
    "    'Generate a dataset for training'\n",
    "    rand_bits = tf.random.uniform(shape=[epoch_len, batch_size*K], minval=0, maxval=2, dtype=tf.int32)\n",
    "    bits_ds = tf.data.Dataset.from_tensor_slices(rand_bits)\n",
    "    snr_ds = tf.data.Dataset.from_tensor_slices(snr*tf.ones(shape=[epoch_len, batch_size, 1]))\n",
    "    \n",
    "    features_ds = tf.data.Dataset.zip((bits_ds, snr_ds))\n",
    "    labels_ds = tf.data.Dataset.from_tensor_slices(rand_bits)\n",
    "    return (features_ds, labels_ds)"
   ]
  },
  {
   "cell_type": "markdown",
   "metadata": {},
   "source": [
    "# Plot results"
   ]
  },
  {
   "cell_type": "code",
   "execution_count": 12,
   "metadata": {},
   "outputs": [],
   "source": [
    "def generate_bits(batch_size, K):\n",
    "    'Generate a batch for evaluating'\n",
    "    rand_bits = tf.random.uniform(shape=[batch_size*K], minval=0, maxval=2, dtype=tf.int32)\n",
    "    features = rand_bits\n",
    "    labels = rand_bits\n",
    "    return features, labels"
   ]
  },
  {
   "cell_type": "code",
   "execution_count": 13,
   "metadata": {},
   "outputs": [
    {
     "name": "stdout",
     "output_type": "stream",
     "text": [
      "-5, -4, -3, -2, -1, 0, 1, 2, 3, 4, 5, 6, 7, 8, 9, 10, 11, 12, 13, 14, 15, 16, 17, 18, 19, 20, 21, 22, 23, 24, 25, "
     ]
    }
   ],
   "source": [
    "snr_range = np.arange(-5, 26)\n",
    "results=[]\n",
    "bs_eval = 100000\n",
    "\n",
    "for snr in snr_range:\n",
    "    features, labels = generate_bits(bs_eval, K)\n",
    "    b_hat_log = autoencoder([features, snr])\n",
    "    b_hat = tf.cast(tf.sign(b_hat_log)/2+1, dtype=tf.int32)\n",
    "    ber = tf.reduce_sum(tf.abs(b_hat - labels))/(bs_eval*K)\n",
    "    results.append(ber.numpy())\n",
    "    print(snr, end=', ')"
   ]
  },
  {
   "cell_type": "code",
   "execution_count": 14,
   "metadata": {},
   "outputs": [
    {
     "data": {
      "image/png": "[encoded data removed]",
      "text/plain": [
       "<Figure size 576x360 with 1 Axes>"
      ]
     },
     "metadata": {},
     "output_type": "display_data"
    }
   ],
   "source": [
    "plt.figure(figsize=(8, 5))\n",
    "plt.semilogy(snr_range, results)\n",
    "plt.xlabel('SNR(dB)')\n",
    "plt.ylabel('BER');\n",
    "plt.grid(which='major', alpha=0.5)\n",
    "plt.grid(which='minor', alpha=0.25)"
   ]
  },
  {
   "cell_type": "markdown",
   "metadata": {},
   "source": [
    "# Tensorboard and @tf.function: create the model in a graph as in TF 1.x"
   ]
  },
  {
   "cell_type": "markdown",
   "metadata": {},
   "source": [
    "Add the decorator @tf.function before the call function"
   ]
  },
  {
   "cell_type": "code",
   "execution_count": 28,
   "metadata": {},
   "outputs": [],
   "source": [
    "class Autoencoder_graph(Model):\n",
    "\n",
    "    def __init__(self, K, ch_uses=1, **kwargs):\n",
    "        super(Autoencoder_graph, self).__init__(**kwargs)\n",
    "        self.K = K\n",
    "        self.M = int(2**self.K)\n",
    "        self.ch_uses = ch_uses\n",
    "\n",
    "    def build(self, input_shape):\n",
    "        self.encoder = Encoder(self.K, self.ch_uses)\n",
    "        self.channel = Channel()\n",
    "        self.decoder = Decoder(self.K)\n",
    "    \n",
    "    @tf.function\n",
    "    def call(self, inputs):\n",
    "        \n",
    "        self.bits, self.snr = inputs\n",
    "        \n",
    "        self.noise_std = tf.sqrt( 2 / tf.pow(10., self.snr/10.0))\n",
    "        \n",
    "        self.x = self.encoder(self.bits)\n",
    "        self.y = self.channel(self.x, self.noise_std)\n",
    "        self.b_hat = self.decoder(self.y)\n",
    "        \n",
    "        return self.b_hat"
   ]
  },
  {
   "cell_type": "code",
   "execution_count": 33,
   "metadata": {},
   "outputs": [],
   "source": [
    "K = 4\n",
    "ch_uses = 1\n",
    "snr = 15\n",
    "\n",
    "autoencoder_graph = Autoencoder_graph(K, ch_uses)"
   ]
  },
  {
   "cell_type": "markdown",
   "metadata": {},
   "source": [
    "If the model is created in a graph, then we can use `tf.summary.trace_on()` to view the graph on Tensorboard :"
   ]
  },
  {
   "cell_type": "code",
   "execution_count": 30,
   "metadata": {},
   "outputs": [],
   "source": [
    "# Create the writer for tensorboard\n",
    "current_time = datetime.now().strftime(\"%Y%m%d-%H%M%S\")\n",
    "train_log_dir = './logs/gradient_tape/' + current_time + '/train'\n",
    "train_summary_writer = tf.summary.create_file_writer(train_log_dir)\n",
    "\n",
    "#Do only one batch\n",
    "dataset = tf.data.Dataset.zip(generate_ds_bits(1, batch_size, K, snr))\n",
    "\n",
    "#Trace the model\n",
    "for step, (features, labels) in enumerate(dataset):\n",
    "    tf.summary.trace_on(graph=True, profiler=True)\n",
    "    b_hat_log = autoencoder_graph(features)\n",
    "    with train_summary_writer.as_default():\n",
    "        tf.summary.trace_export(\n",
    "            name=\"my_func_trace\",\n",
    "            step=0,\n",
    "            profiler_outdir=train_log_dir)"
   ]
  },
  {
   "cell_type": "markdown",
   "metadata": {},
   "source": [
    "To visualise the Tensorboard session, open a terminal (File -> New -> Terminal), go to the current folder, and type\n",
    "\n",
    "`tensorboard --logdir ./logs --bind_all`\n",
    "\n",
    "\n",
    "Then go to http://127.0.0.1:10001 or http://127.0.0.1:10002 (or ...) on your browser"
   ]
  },
  {
   "cell_type": "code",
   "execution_count": 34,
   "metadata": {},
   "outputs": [
    {
     "name": "stdout",
     "output_type": "stream",
     "text": [
      "BER after each epoch:\n",
      "0.101525, 0.065575, 0.043425, 0.03695, 0.0365, 0.0344, 0.035325, 0.034, 0.0334, 0.03485, \n",
      "\n",
      "Execution time : 11.545795202255249 seconds\n"
     ]
    }
   ],
   "source": [
    "batch_size = 10000\n",
    "epoch_size = 100\n",
    "nb_epoch = 10\n",
    "\n",
    "# Create the writer for tensorboard\n",
    "current_time = datetime.now().strftime(\"%Y%m%d-%H%M%S\")\n",
    "train_log_dir = './logs/gradient_tape/' + current_time + '/train'\n",
    "train_summary_writer = tf.summary.create_file_writer(train_log_dir)\n",
    "\n",
    "#Initialise some metrics that we want to display in Tensorboard\n",
    "train_loss = tf.keras.metrics.Mean('train_loss', dtype=tf.float32)\n",
    "train_ber = tf.keras.metrics.Mean('train_BER', dtype=tf.float32)\n",
    "    \n",
    "print('BER after each epoch:')\n",
    "    \n",
    "start_time = time.time()\n",
    "for epoch in range(nb_epoch):\n",
    "    \n",
    "    # Create a dataset for each epoch\n",
    "    dataset = tf.data.Dataset.zip(generate_ds_bits(epoch_size, batch_size, K, snr))\n",
    "\n",
    "    # Iterate over the batches of the dataset.\n",
    "    for step, (features, labels) in enumerate(dataset):\n",
    "        # Open a GradientTape.\n",
    "        with tf.GradientTape() as tape:\n",
    "                        \n",
    "            # Forward pass.\n",
    "            b_hat_log = autoencoder_graph(features)\n",
    "\n",
    "            # Loss value for this batch.\n",
    "            loss_value =  loss_func(labels, b_hat_log, from_logits=True)\n",
    "            \n",
    "        # Get gradients of loss wrt the weights.\n",
    "        gradients = tape.gradient(loss_value, autoencoder_graph.trainable_weights)\n",
    "\n",
    "        # Update the weights of our linear layer.\n",
    "        optimizer.apply_gradients(zip(gradients, autoencoder_graph.trainable_weights))\n",
    "\n",
    "    b_hat = tf.cast(tf.sign(b_hat_log)/2+1, dtype=tf.int32)\n",
    "    ber = tf.reduce_sum(tf.abs(b_hat - labels))/(batch_size*K)\n",
    "    print(ber.numpy(), end=', ')\n",
    "    \n",
    "    #Write the metrics\n",
    "    with train_summary_writer.as_default():\n",
    "        train_loss(loss_value)\n",
    "        train_ber(tf.constant(ber))\n",
    "        tf.summary.scalar('loss', train_loss.result(), step=epoch)\n",
    "        tf.summary.scalar('BER', train_ber.result(), step=epoch)\n",
    "    #Reset the metrics\n",
    "    train_loss.reset_states()\n",
    "    train_ber.reset_states()\n",
    "        \n",
    "print(\"\\n\\nExecution time : %s seconds\" % (time.time() - start_time))"
   ]
  },
  {
   "cell_type": "markdown",
   "metadata": {},
   "source": [
    "- Don't hesitate to refresh the Tensorboard page to see the new metrics\n",
    "- The Tensorboard metrics can be called even when the model is not in a graph.\n",
    "- The execution is (much) faster, but you loose acces to the variables inside the graph :"
   ]
  },
  {
   "cell_type": "code",
   "execution_count": 19,
   "metadata": {},
   "outputs": [
    {
     "name": "stdout",
     "output_type": "stream",
     "text": [
      "Tensor(\"encoder_1/Complex:0\", shape=(10000, 1), dtype=complex64)\n",
      "\n",
      "/!\\ AttributeError: Tensor object has no attribute numpy\n"
     ]
    }
   ],
   "source": [
    "print(autoencoder_graph.x)\n",
    "\n",
    "try:\n",
    "    print(autoencoder_graph.x.numpy())\n",
    "except:\n",
    "    print('\\n/!\\ AttributeError: Tensor object has no attribute numpy')"
   ]
  },
  {
   "cell_type": "markdown",
   "metadata": {},
   "source": [
    "# Building a model"
   ]
  },
  {
   "cell_type": "markdown",
   "metadata": {},
   "source": [
    "If you decide to create graphs, you can also compile your model and use standard Keras function like fit() to train it."
   ]
  },
  {
   "cell_type": "code",
   "execution_count": 20,
   "metadata": {},
   "outputs": [
    {
     "name": "stdout",
     "output_type": "stream",
     "text": [
      "Epoch 1/10\n",
      "250/250 [==============================] - 3s 10ms/step - loss: 1.0558\n",
      "Epoch 2/10\n",
      "250/250 [==============================] - 2s 7ms/step - loss: 0.3954\n",
      "Epoch 3/10\n",
      "250/250 [==============================] - 2s 6ms/step - loss: 0.2591\n",
      "Epoch 4/10\n",
      "250/250 [==============================] - 2s 6ms/step - loss: 0.1965\n",
      "Epoch 5/10\n",
      "250/250 [==============================] - 2s 6ms/step - loss: 0.1965\n",
      "Epoch 6/10\n",
      "250/250 [==============================] - 2s 6ms/step - loss: 0.1966\n",
      "Epoch 7/10\n",
      "250/250 [==============================] - 2s 6ms/step - loss: 0.1615\n",
      "Epoch 8/10\n",
      "250/250 [==============================] - 2s 6ms/step - loss: 0.1433\n",
      "Epoch 9/10\n",
      "250/250 [==============================] - 2s 6ms/step - loss: 0.1273\n",
      "Epoch 10/10\n",
      "250/250 [==============================] - 2s 6ms/step - loss: 0.1252\n"
     ]
    },
    {
     "data": {
      "text/plain": [
       "<tensorflow.python.keras.callbacks.History at 0x7f66e0549b70>"
      ]
     },
     "execution_count": 20,
     "metadata": {},
     "output_type": "execute_result"
    }
   ],
   "source": [
    "# Instantiate an autoencoder\n",
    "autoencoder_graph_2 = Autoencoder_graph(K, ch_uses)\n",
    "\n",
    "#Initialise optimizer and loss function\n",
    "optimizer = tf.keras.optimizers.Adam()\n",
    "loss_func = tf.keras.losses.binary_crossentropy\n",
    "\n",
    "#Generate dataset\n",
    "batch_size = 10000\n",
    "epoch_size = 250\n",
    "nb_epoch = 10\n",
    "dataset = tf.data.Dataset.zip(generate_ds_bits(epoch_size, batch_size, K, snr))\n",
    "\n",
    "#Compile and fit\n",
    "autoencoder_graph_2.compile(optimizer, loss_func)\n",
    "autoencoder_graph_2.fit(dataset, epochs=nb_epoch)"
   ]
  },
  {
   "cell_type": "code",
   "execution_count": 21,
   "metadata": {},
   "outputs": [
    {
     "name": "stdout",
     "output_type": "stream",
     "text": [
      "Model: \"autoencoder_graph_1\"\n",
      "_________________________________________________________________\n",
      "Layer (type)                 Output Shape              Param #   \n",
      "=================================================================\n",
      "encoder (Encoder)            multiple                  32        \n",
      "_________________________________________________________________\n",
      "channel (Channel)            multiple                  0         \n",
      "_________________________________________________________________\n",
      "decoder (Decoder)            multiple                  692       \n",
      "=================================================================\n",
      "Total params: 724\n",
      "Trainable params: 724\n",
      "Non-trainable params: 0\n",
      "_________________________________________________________________\n"
     ]
    }
   ],
   "source": [
    "autoencoder_graph_2.summary()"
   ]
  },
  {
   "cell_type": "code",
   "execution_count": null,
   "metadata": {},
   "outputs": [],
   "source": []
  }
 ],
 "metadata": {
  "kernelspec": {
   "display_name": "Python 3",
   "language": "python",
   "name": "python3"
  },
  "language_info": {
   "codemirror_mode": {
    "name": "ipython",
    "version": 3
   },
   "file_extension": ".py",
   "mimetype": "text/x-python",
   "name": "python",
   "nbconvert_exporter": "python",
   "pygments_lexer": "ipython3",
   "version": "3.6.8"
  }
 },
 "nbformat": 4,
 "nbformat_minor": 4
}
